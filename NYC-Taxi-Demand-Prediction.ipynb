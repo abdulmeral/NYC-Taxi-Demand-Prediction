{
 "cells": [
  {
   "cell_type": "code",
   "execution_count": 1,
   "metadata": {},
   "outputs": [],
   "source": [
    "import dask.dataframe as dd\n",
    "import pandas as pd\n",
    "import numpy as np\n",
    "import matplotlib.pyplot as plt\n",
    "import seaborn as sns\n",
    "import time\n",
    "# for Q-Q plots\n",
    "import scipy.stats as stats\n",
    "from scipy.stats import norm"
   ]
  },
  {
   "cell_type": "code",
   "execution_count": 2,
   "metadata": {},
   "outputs": [],
   "source": [
    "df = pd.read_csv(\"yellow_tripdata_2015-01.csv\")"
   ]
  },
  {
   "cell_type": "code",
   "execution_count": 3,
   "metadata": {},
   "outputs": [
    {
     "data": {
      "text/html": [
       "<div>\n",
       "<style scoped>\n",
       "    .dataframe tbody tr th:only-of-type {\n",
       "        vertical-align: middle;\n",
       "    }\n",
       "\n",
       "    .dataframe tbody tr th {\n",
       "        vertical-align: top;\n",
       "    }\n",
       "\n",
       "    .dataframe thead th {\n",
       "        text-align: right;\n",
       "    }\n",
       "</style>\n",
       "<table border=\"1\" class=\"dataframe\">\n",
       "  <thead>\n",
       "    <tr style=\"text-align: right;\">\n",
       "      <th></th>\n",
       "      <th>VendorID</th>\n",
       "      <th>tpep_pickup_datetime</th>\n",
       "      <th>tpep_dropoff_datetime</th>\n",
       "      <th>passenger_count</th>\n",
       "      <th>trip_distance</th>\n",
       "      <th>pickup_longitude</th>\n",
       "      <th>pickup_latitude</th>\n",
       "      <th>RateCodeID</th>\n",
       "      <th>store_and_fwd_flag</th>\n",
       "      <th>dropoff_longitude</th>\n",
       "      <th>dropoff_latitude</th>\n",
       "      <th>payment_type</th>\n",
       "      <th>fare_amount</th>\n",
       "      <th>extra</th>\n",
       "      <th>mta_tax</th>\n",
       "      <th>tip_amount</th>\n",
       "      <th>tolls_amount</th>\n",
       "      <th>improvement_surcharge</th>\n",
       "      <th>total_amount</th>\n",
       "    </tr>\n",
       "  </thead>\n",
       "  <tbody>\n",
       "    <tr>\n",
       "      <th>0</th>\n",
       "      <td>2</td>\n",
       "      <td>2015-01-15 19:05:39</td>\n",
       "      <td>2015-01-15 19:23:42</td>\n",
       "      <td>1</td>\n",
       "      <td>1.59</td>\n",
       "      <td>-73.993896</td>\n",
       "      <td>40.750111</td>\n",
       "      <td>1</td>\n",
       "      <td>N</td>\n",
       "      <td>-73.974785</td>\n",
       "      <td>40.750618</td>\n",
       "      <td>1</td>\n",
       "      <td>12.0</td>\n",
       "      <td>1.0</td>\n",
       "      <td>0.5</td>\n",
       "      <td>3.25</td>\n",
       "      <td>0.0</td>\n",
       "      <td>0.3</td>\n",
       "      <td>17.05</td>\n",
       "    </tr>\n",
       "    <tr>\n",
       "      <th>1</th>\n",
       "      <td>1</td>\n",
       "      <td>2015-01-10 20:33:38</td>\n",
       "      <td>2015-01-10 20:53:28</td>\n",
       "      <td>1</td>\n",
       "      <td>3.30</td>\n",
       "      <td>-74.001648</td>\n",
       "      <td>40.724243</td>\n",
       "      <td>1</td>\n",
       "      <td>N</td>\n",
       "      <td>-73.994415</td>\n",
       "      <td>40.759109</td>\n",
       "      <td>1</td>\n",
       "      <td>14.5</td>\n",
       "      <td>0.5</td>\n",
       "      <td>0.5</td>\n",
       "      <td>2.00</td>\n",
       "      <td>0.0</td>\n",
       "      <td>0.3</td>\n",
       "      <td>17.80</td>\n",
       "    </tr>\n",
       "    <tr>\n",
       "      <th>2</th>\n",
       "      <td>1</td>\n",
       "      <td>2015-01-10 20:33:38</td>\n",
       "      <td>2015-01-10 20:43:41</td>\n",
       "      <td>1</td>\n",
       "      <td>1.80</td>\n",
       "      <td>-73.963341</td>\n",
       "      <td>40.802788</td>\n",
       "      <td>1</td>\n",
       "      <td>N</td>\n",
       "      <td>-73.951820</td>\n",
       "      <td>40.824413</td>\n",
       "      <td>2</td>\n",
       "      <td>9.5</td>\n",
       "      <td>0.5</td>\n",
       "      <td>0.5</td>\n",
       "      <td>0.00</td>\n",
       "      <td>0.0</td>\n",
       "      <td>0.3</td>\n",
       "      <td>10.80</td>\n",
       "    </tr>\n",
       "    <tr>\n",
       "      <th>3</th>\n",
       "      <td>1</td>\n",
       "      <td>2015-01-10 20:33:39</td>\n",
       "      <td>2015-01-10 20:35:31</td>\n",
       "      <td>1</td>\n",
       "      <td>0.50</td>\n",
       "      <td>-74.009087</td>\n",
       "      <td>40.713818</td>\n",
       "      <td>1</td>\n",
       "      <td>N</td>\n",
       "      <td>-74.004326</td>\n",
       "      <td>40.719986</td>\n",
       "      <td>2</td>\n",
       "      <td>3.5</td>\n",
       "      <td>0.5</td>\n",
       "      <td>0.5</td>\n",
       "      <td>0.00</td>\n",
       "      <td>0.0</td>\n",
       "      <td>0.3</td>\n",
       "      <td>4.80</td>\n",
       "    </tr>\n",
       "    <tr>\n",
       "      <th>4</th>\n",
       "      <td>1</td>\n",
       "      <td>2015-01-10 20:33:39</td>\n",
       "      <td>2015-01-10 20:52:58</td>\n",
       "      <td>1</td>\n",
       "      <td>3.00</td>\n",
       "      <td>-73.971176</td>\n",
       "      <td>40.762428</td>\n",
       "      <td>1</td>\n",
       "      <td>N</td>\n",
       "      <td>-74.004181</td>\n",
       "      <td>40.742653</td>\n",
       "      <td>2</td>\n",
       "      <td>15.0</td>\n",
       "      <td>0.5</td>\n",
       "      <td>0.5</td>\n",
       "      <td>0.00</td>\n",
       "      <td>0.0</td>\n",
       "      <td>0.3</td>\n",
       "      <td>16.30</td>\n",
       "    </tr>\n",
       "  </tbody>\n",
       "</table>\n",
       "</div>"
      ],
      "text/plain": [
       "   VendorID tpep_pickup_datetime tpep_dropoff_datetime  passenger_count  \\\n",
       "0         2  2015-01-15 19:05:39   2015-01-15 19:23:42                1   \n",
       "1         1  2015-01-10 20:33:38   2015-01-10 20:53:28                1   \n",
       "2         1  2015-01-10 20:33:38   2015-01-10 20:43:41                1   \n",
       "3         1  2015-01-10 20:33:39   2015-01-10 20:35:31                1   \n",
       "4         1  2015-01-10 20:33:39   2015-01-10 20:52:58                1   \n",
       "\n",
       "   trip_distance  pickup_longitude  pickup_latitude  RateCodeID  \\\n",
       "0           1.59        -73.993896        40.750111           1   \n",
       "1           3.30        -74.001648        40.724243           1   \n",
       "2           1.80        -73.963341        40.802788           1   \n",
       "3           0.50        -74.009087        40.713818           1   \n",
       "4           3.00        -73.971176        40.762428           1   \n",
       "\n",
       "  store_and_fwd_flag  dropoff_longitude  dropoff_latitude  payment_type  \\\n",
       "0                  N         -73.974785         40.750618             1   \n",
       "1                  N         -73.994415         40.759109             1   \n",
       "2                  N         -73.951820         40.824413             2   \n",
       "3                  N         -74.004326         40.719986             2   \n",
       "4                  N         -74.004181         40.742653             2   \n",
       "\n",
       "   fare_amount  extra  mta_tax  tip_amount  tolls_amount  \\\n",
       "0         12.0    1.0      0.5        3.25           0.0   \n",
       "1         14.5    0.5      0.5        2.00           0.0   \n",
       "2          9.5    0.5      0.5        0.00           0.0   \n",
       "3          3.5    0.5      0.5        0.00           0.0   \n",
       "4         15.0    0.5      0.5        0.00           0.0   \n",
       "\n",
       "   improvement_surcharge  total_amount  \n",
       "0                    0.3         17.05  \n",
       "1                    0.3         17.80  \n",
       "2                    0.3         10.80  \n",
       "3                    0.3          4.80  \n",
       "4                    0.3         16.30  "
      ]
     },
     "execution_count": 3,
     "metadata": {},
     "output_type": "execute_result"
    }
   ],
   "source": [
    "df.head()"
   ]
  },
  {
   "cell_type": "code",
   "execution_count": 4,
   "metadata": {},
   "outputs": [
    {
     "name": "stdout",
     "output_type": "stream",
     "text": [
      "<class 'pandas.core.frame.DataFrame'>\n",
      "RangeIndex: 12748986 entries, 0 to 12748985\n",
      "Data columns (total 19 columns):\n",
      " #   Column                 Dtype  \n",
      "---  ------                 -----  \n",
      " 0   VendorID               int64  \n",
      " 1   tpep_pickup_datetime   object \n",
      " 2   tpep_dropoff_datetime  object \n",
      " 3   passenger_count        int64  \n",
      " 4   trip_distance          float64\n",
      " 5   pickup_longitude       float64\n",
      " 6   pickup_latitude        float64\n",
      " 7   RateCodeID             int64  \n",
      " 8   store_and_fwd_flag     object \n",
      " 9   dropoff_longitude      float64\n",
      " 10  dropoff_latitude       float64\n",
      " 11  payment_type           int64  \n",
      " 12  fare_amount            float64\n",
      " 13  extra                  float64\n",
      " 14  mta_tax                float64\n",
      " 15  tip_amount             float64\n",
      " 16  tolls_amount           float64\n",
      " 17  improvement_surcharge  float64\n",
      " 18  total_amount           float64\n",
      "dtypes: float64(12), int64(4), object(3)\n",
      "memory usage: 1.8+ GB\n"
     ]
    }
   ],
   "source": [
    "df.info()"
   ]
  },
  {
   "cell_type": "code",
   "execution_count": 5,
   "metadata": {},
   "outputs": [
    {
     "data": {
      "text/plain": [
       "VendorID                 0\n",
       "tpep_pickup_datetime     0\n",
       "tpep_dropoff_datetime    0\n",
       "passenger_count          0\n",
       "trip_distance            0\n",
       "pickup_longitude         0\n",
       "pickup_latitude          0\n",
       "RateCodeID               0\n",
       "store_and_fwd_flag       0\n",
       "dropoff_longitude        0\n",
       "dropoff_latitude         0\n",
       "payment_type             0\n",
       "fare_amount              0\n",
       "extra                    0\n",
       "mta_tax                  0\n",
       "tip_amount               0\n",
       "tolls_amount             0\n",
       "improvement_surcharge    3\n",
       "total_amount             0\n",
       "dtype: int64"
      ]
     },
     "execution_count": 5,
     "metadata": {},
     "output_type": "execute_result"
    }
   ],
   "source": [
    "df.isnull().sum()"
   ]
  },
  {
   "cell_type": "code",
   "execution_count": 6,
   "metadata": {},
   "outputs": [
    {
     "data": {
      "text/plain": [
       "(12748986, 19)"
      ]
     },
     "execution_count": 6,
     "metadata": {},
     "output_type": "execute_result"
    }
   ],
   "source": [
    "df.shape"
   ]
  },
  {
   "cell_type": "markdown",
   "metadata": {},
   "source": [
    "## Data Cleaning"
   ]
  },
  {
   "cell_type": "markdown",
   "metadata": {},
   "source": [
    "### Drop Outliers for Latitude and Longitude"
   ]
  },
  {
   "cell_type": "code",
   "execution_count": 7,
   "metadata": {},
   "outputs": [],
   "source": [
    "# Latitude and Longitude for Pickup\n",
    "# (latitude, longitude) - (40.5774, -74.15) & (40.9176,-73.7004)\n",
    "df = df[~((df.pickup_longitude <= -74.15) | (df.pickup_latitude <= 40.5774)| \\\n",
    "                   (df.pickup_longitude >= -73.7004) | (df.pickup_latitude >= 40.9176))]"
   ]
  },
  {
   "cell_type": "code",
   "execution_count": 8,
   "metadata": {},
   "outputs": [
    {
     "data": {
      "text/plain": [
       "(12501244, 19)"
      ]
     },
     "execution_count": 8,
     "metadata": {},
     "output_type": "execute_result"
    }
   ],
   "source": [
    "df.shape"
   ]
  },
  {
   "cell_type": "code",
   "execution_count": 9,
   "metadata": {},
   "outputs": [],
   "source": [
    "# Latitude and Longitude for Dropoff\n",
    "df = df[~((df.dropoff_longitude <= -74.15) | (df.dropoff_latitude <= 40.5774)| \n",
    "                         (df.dropoff_longitude >= -73.7004) | (df.dropoff_latitude >= 40.9176))]\n"
   ]
  },
  {
   "cell_type": "code",
   "execution_count": 10,
   "metadata": {},
   "outputs": [
    {
     "data": {
      "text/plain": [
       "(12455067, 19)"
      ]
     },
     "execution_count": 10,
     "metadata": {},
     "output_type": "execute_result"
    }
   ],
   "source": [
    "df.shape"
   ]
  },
  {
   "cell_type": "markdown",
   "metadata": {},
   "source": [
    "## Feature Engineering"
   ]
  },
  {
   "cell_type": "code",
   "execution_count": 11,
   "metadata": {},
   "outputs": [],
   "source": [
    "# Object to Datetime\n",
    "df['tpep_pickup_datetime'] =  pd.to_datetime(df['tpep_pickup_datetime'], format=\"%Y-%m-%d %H:%M:%S\")\n",
    "df['tpep_dropoff_datetime'] =  pd.to_datetime(df['tpep_dropoff_datetime'], format=\"%Y-%m-%d %H:%M:%S\")"
   ]
  },
  {
   "cell_type": "code",
   "execution_count": 12,
   "metadata": {},
   "outputs": [
    {
     "data": {
      "text/html": [
       "<div>\n",
       "<style scoped>\n",
       "    .dataframe tbody tr th:only-of-type {\n",
       "        vertical-align: middle;\n",
       "    }\n",
       "\n",
       "    .dataframe tbody tr th {\n",
       "        vertical-align: top;\n",
       "    }\n",
       "\n",
       "    .dataframe thead th {\n",
       "        text-align: right;\n",
       "    }\n",
       "</style>\n",
       "<table border=\"1\" class=\"dataframe\">\n",
       "  <thead>\n",
       "    <tr style=\"text-align: right;\">\n",
       "      <th></th>\n",
       "      <th>VendorID</th>\n",
       "      <th>tpep_pickup_datetime</th>\n",
       "      <th>tpep_dropoff_datetime</th>\n",
       "      <th>passenger_count</th>\n",
       "      <th>trip_distance</th>\n",
       "      <th>pickup_longitude</th>\n",
       "      <th>pickup_latitude</th>\n",
       "      <th>RateCodeID</th>\n",
       "      <th>store_and_fwd_flag</th>\n",
       "      <th>dropoff_longitude</th>\n",
       "      <th>dropoff_latitude</th>\n",
       "      <th>payment_type</th>\n",
       "      <th>fare_amount</th>\n",
       "      <th>extra</th>\n",
       "      <th>mta_tax</th>\n",
       "      <th>tip_amount</th>\n",
       "      <th>tolls_amount</th>\n",
       "      <th>improvement_surcharge</th>\n",
       "      <th>total_amount</th>\n",
       "      <th>trip_time</th>\n",
       "    </tr>\n",
       "  </thead>\n",
       "  <tbody>\n",
       "    <tr>\n",
       "      <th>0</th>\n",
       "      <td>2</td>\n",
       "      <td>2015-01-15 19:05:39</td>\n",
       "      <td>2015-01-15 19:23:42</td>\n",
       "      <td>1</td>\n",
       "      <td>1.59</td>\n",
       "      <td>-73.993896</td>\n",
       "      <td>40.750111</td>\n",
       "      <td>1</td>\n",
       "      <td>N</td>\n",
       "      <td>-73.974785</td>\n",
       "      <td>40.750618</td>\n",
       "      <td>1</td>\n",
       "      <td>12.0</td>\n",
       "      <td>1.0</td>\n",
       "      <td>0.5</td>\n",
       "      <td>3.25</td>\n",
       "      <td>0.0</td>\n",
       "      <td>0.3</td>\n",
       "      <td>17.05</td>\n",
       "      <td>18.050000</td>\n",
       "    </tr>\n",
       "    <tr>\n",
       "      <th>1</th>\n",
       "      <td>1</td>\n",
       "      <td>2015-01-10 20:33:38</td>\n",
       "      <td>2015-01-10 20:53:28</td>\n",
       "      <td>1</td>\n",
       "      <td>3.30</td>\n",
       "      <td>-74.001648</td>\n",
       "      <td>40.724243</td>\n",
       "      <td>1</td>\n",
       "      <td>N</td>\n",
       "      <td>-73.994415</td>\n",
       "      <td>40.759109</td>\n",
       "      <td>1</td>\n",
       "      <td>14.5</td>\n",
       "      <td>0.5</td>\n",
       "      <td>0.5</td>\n",
       "      <td>2.00</td>\n",
       "      <td>0.0</td>\n",
       "      <td>0.3</td>\n",
       "      <td>17.80</td>\n",
       "      <td>19.833333</td>\n",
       "    </tr>\n",
       "    <tr>\n",
       "      <th>2</th>\n",
       "      <td>1</td>\n",
       "      <td>2015-01-10 20:33:38</td>\n",
       "      <td>2015-01-10 20:43:41</td>\n",
       "      <td>1</td>\n",
       "      <td>1.80</td>\n",
       "      <td>-73.963341</td>\n",
       "      <td>40.802788</td>\n",
       "      <td>1</td>\n",
       "      <td>N</td>\n",
       "      <td>-73.951820</td>\n",
       "      <td>40.824413</td>\n",
       "      <td>2</td>\n",
       "      <td>9.5</td>\n",
       "      <td>0.5</td>\n",
       "      <td>0.5</td>\n",
       "      <td>0.00</td>\n",
       "      <td>0.0</td>\n",
       "      <td>0.3</td>\n",
       "      <td>10.80</td>\n",
       "      <td>10.050000</td>\n",
       "    </tr>\n",
       "    <tr>\n",
       "      <th>3</th>\n",
       "      <td>1</td>\n",
       "      <td>2015-01-10 20:33:39</td>\n",
       "      <td>2015-01-10 20:35:31</td>\n",
       "      <td>1</td>\n",
       "      <td>0.50</td>\n",
       "      <td>-74.009087</td>\n",
       "      <td>40.713818</td>\n",
       "      <td>1</td>\n",
       "      <td>N</td>\n",
       "      <td>-74.004326</td>\n",
       "      <td>40.719986</td>\n",
       "      <td>2</td>\n",
       "      <td>3.5</td>\n",
       "      <td>0.5</td>\n",
       "      <td>0.5</td>\n",
       "      <td>0.00</td>\n",
       "      <td>0.0</td>\n",
       "      <td>0.3</td>\n",
       "      <td>4.80</td>\n",
       "      <td>1.866667</td>\n",
       "    </tr>\n",
       "    <tr>\n",
       "      <th>4</th>\n",
       "      <td>1</td>\n",
       "      <td>2015-01-10 20:33:39</td>\n",
       "      <td>2015-01-10 20:52:58</td>\n",
       "      <td>1</td>\n",
       "      <td>3.00</td>\n",
       "      <td>-73.971176</td>\n",
       "      <td>40.762428</td>\n",
       "      <td>1</td>\n",
       "      <td>N</td>\n",
       "      <td>-74.004181</td>\n",
       "      <td>40.742653</td>\n",
       "      <td>2</td>\n",
       "      <td>15.0</td>\n",
       "      <td>0.5</td>\n",
       "      <td>0.5</td>\n",
       "      <td>0.00</td>\n",
       "      <td>0.0</td>\n",
       "      <td>0.3</td>\n",
       "      <td>16.30</td>\n",
       "      <td>19.316667</td>\n",
       "    </tr>\n",
       "  </tbody>\n",
       "</table>\n",
       "</div>"
      ],
      "text/plain": [
       "   VendorID tpep_pickup_datetime tpep_dropoff_datetime  passenger_count  \\\n",
       "0         2  2015-01-15 19:05:39   2015-01-15 19:23:42                1   \n",
       "1         1  2015-01-10 20:33:38   2015-01-10 20:53:28                1   \n",
       "2         1  2015-01-10 20:33:38   2015-01-10 20:43:41                1   \n",
       "3         1  2015-01-10 20:33:39   2015-01-10 20:35:31                1   \n",
       "4         1  2015-01-10 20:33:39   2015-01-10 20:52:58                1   \n",
       "\n",
       "   trip_distance  pickup_longitude  pickup_latitude  RateCodeID  \\\n",
       "0           1.59        -73.993896        40.750111           1   \n",
       "1           3.30        -74.001648        40.724243           1   \n",
       "2           1.80        -73.963341        40.802788           1   \n",
       "3           0.50        -74.009087        40.713818           1   \n",
       "4           3.00        -73.971176        40.762428           1   \n",
       "\n",
       "  store_and_fwd_flag  dropoff_longitude  dropoff_latitude  payment_type  \\\n",
       "0                  N         -73.974785         40.750618             1   \n",
       "1                  N         -73.994415         40.759109             1   \n",
       "2                  N         -73.951820         40.824413             2   \n",
       "3                  N         -74.004326         40.719986             2   \n",
       "4                  N         -74.004181         40.742653             2   \n",
       "\n",
       "   fare_amount  extra  mta_tax  tip_amount  tolls_amount  \\\n",
       "0         12.0    1.0      0.5        3.25           0.0   \n",
       "1         14.5    0.5      0.5        2.00           0.0   \n",
       "2          9.5    0.5      0.5        0.00           0.0   \n",
       "3          3.5    0.5      0.5        0.00           0.0   \n",
       "4         15.0    0.5      0.5        0.00           0.0   \n",
       "\n",
       "   improvement_surcharge  total_amount  trip_time  \n",
       "0                    0.3         17.05  18.050000  \n",
       "1                    0.3         17.80  19.833333  \n",
       "2                    0.3         10.80  10.050000  \n",
       "3                    0.3          4.80   1.866667  \n",
       "4                    0.3         16.30  19.316667  "
      ]
     },
     "execution_count": 12,
     "metadata": {},
     "output_type": "execute_result"
    }
   ],
   "source": [
    "# find total duration time\n",
    "df['trip_time'] = df['tpep_dropoff_datetime'] - df['tpep_pickup_datetime']\n",
    "df['trip_time'] = df['trip_time'] / np.timedelta64(1,'m')\n",
    "df.head()"
   ]
  },
  {
   "cell_type": "code",
   "execution_count": 13,
   "metadata": {},
   "outputs": [],
   "source": [
    "# Add pick time as second\n",
    "df['pickup_time'] = df['tpep_pickup_datetime'].apply(lambda x: time.mktime(x.timetuple()))"
   ]
  },
  {
   "cell_type": "code",
   "execution_count": 14,
   "metadata": {},
   "outputs": [],
   "source": [
    "# Find Speed\n",
    "# X = V * t\n",
    "df['Speed'] = (df['trip_distance']/df['trip_time']) * 60"
   ]
  },
  {
   "cell_type": "code",
   "execution_count": 15,
   "metadata": {},
   "outputs": [
    {
     "data": {
      "text/html": [
       "<div>\n",
       "<style scoped>\n",
       "    .dataframe tbody tr th:only-of-type {\n",
       "        vertical-align: middle;\n",
       "    }\n",
       "\n",
       "    .dataframe tbody tr th {\n",
       "        vertical-align: top;\n",
       "    }\n",
       "\n",
       "    .dataframe thead th {\n",
       "        text-align: right;\n",
       "    }\n",
       "</style>\n",
       "<table border=\"1\" class=\"dataframe\">\n",
       "  <thead>\n",
       "    <tr style=\"text-align: right;\">\n",
       "      <th></th>\n",
       "      <th>passenger_count</th>\n",
       "      <th>trip_distance</th>\n",
       "      <th>pickup_longitude</th>\n",
       "      <th>pickup_latitude</th>\n",
       "      <th>dropoff_longitude</th>\n",
       "      <th>dropoff_latitude</th>\n",
       "      <th>total_amount</th>\n",
       "      <th>trip_time</th>\n",
       "      <th>pickup_time</th>\n",
       "      <th>Speed</th>\n",
       "    </tr>\n",
       "  </thead>\n",
       "  <tbody>\n",
       "    <tr>\n",
       "      <th>0</th>\n",
       "      <td>1</td>\n",
       "      <td>1.59</td>\n",
       "      <td>-73.993896</td>\n",
       "      <td>40.750111</td>\n",
       "      <td>-73.974785</td>\n",
       "      <td>40.750618</td>\n",
       "      <td>17.05</td>\n",
       "      <td>18.050000</td>\n",
       "      <td>1.421338e+09</td>\n",
       "      <td>5.285319</td>\n",
       "    </tr>\n",
       "    <tr>\n",
       "      <th>1</th>\n",
       "      <td>1</td>\n",
       "      <td>3.30</td>\n",
       "      <td>-74.001648</td>\n",
       "      <td>40.724243</td>\n",
       "      <td>-73.994415</td>\n",
       "      <td>40.759109</td>\n",
       "      <td>17.80</td>\n",
       "      <td>19.833333</td>\n",
       "      <td>1.420911e+09</td>\n",
       "      <td>9.983193</td>\n",
       "    </tr>\n",
       "    <tr>\n",
       "      <th>2</th>\n",
       "      <td>1</td>\n",
       "      <td>1.80</td>\n",
       "      <td>-73.963341</td>\n",
       "      <td>40.802788</td>\n",
       "      <td>-73.951820</td>\n",
       "      <td>40.824413</td>\n",
       "      <td>10.80</td>\n",
       "      <td>10.050000</td>\n",
       "      <td>1.420911e+09</td>\n",
       "      <td>10.746269</td>\n",
       "    </tr>\n",
       "    <tr>\n",
       "      <th>3</th>\n",
       "      <td>1</td>\n",
       "      <td>0.50</td>\n",
       "      <td>-74.009087</td>\n",
       "      <td>40.713818</td>\n",
       "      <td>-74.004326</td>\n",
       "      <td>40.719986</td>\n",
       "      <td>4.80</td>\n",
       "      <td>1.866667</td>\n",
       "      <td>1.420911e+09</td>\n",
       "      <td>16.071429</td>\n",
       "    </tr>\n",
       "    <tr>\n",
       "      <th>4</th>\n",
       "      <td>1</td>\n",
       "      <td>3.00</td>\n",
       "      <td>-73.971176</td>\n",
       "      <td>40.762428</td>\n",
       "      <td>-74.004181</td>\n",
       "      <td>40.742653</td>\n",
       "      <td>16.30</td>\n",
       "      <td>19.316667</td>\n",
       "      <td>1.420911e+09</td>\n",
       "      <td>9.318378</td>\n",
       "    </tr>\n",
       "  </tbody>\n",
       "</table>\n",
       "</div>"
      ],
      "text/plain": [
       "   passenger_count  trip_distance  pickup_longitude  pickup_latitude  \\\n",
       "0                1           1.59        -73.993896        40.750111   \n",
       "1                1           3.30        -74.001648        40.724243   \n",
       "2                1           1.80        -73.963341        40.802788   \n",
       "3                1           0.50        -74.009087        40.713818   \n",
       "4                1           3.00        -73.971176        40.762428   \n",
       "\n",
       "   dropoff_longitude  dropoff_latitude  total_amount  trip_time   pickup_time  \\\n",
       "0         -73.974785         40.750618         17.05  18.050000  1.421338e+09   \n",
       "1         -73.994415         40.759109         17.80  19.833333  1.420911e+09   \n",
       "2         -73.951820         40.824413         10.80  10.050000  1.420911e+09   \n",
       "3         -74.004326         40.719986          4.80   1.866667  1.420911e+09   \n",
       "4         -74.004181         40.742653         16.30  19.316667  1.420911e+09   \n",
       "\n",
       "       Speed  \n",
       "0   5.285319  \n",
       "1   9.983193  \n",
       "2  10.746269  \n",
       "3  16.071429  \n",
       "4   9.318378  "
      ]
     },
     "execution_count": 15,
     "metadata": {},
     "output_type": "execute_result"
    }
   ],
   "source": [
    "# Choose Features\n",
    "df = df[['passenger_count','trip_distance','pickup_longitude','pickup_latitude',\n",
    "         'dropoff_longitude','dropoff_latitude','total_amount','trip_time',\"pickup_time\",'Speed']]\n",
    "df.head()"
   ]
  },
  {
   "cell_type": "markdown",
   "metadata": {},
   "source": [
    "## Drop Outliers for trip_time"
   ]
  },
  {
   "cell_type": "code",
   "execution_count": 16,
   "metadata": {},
   "outputs": [],
   "source": [
    "# function to create histogram, Q-Q plot and\n",
    "# boxplot. We learned this in section 3 of the course\n",
    "\n",
    "\n",
    "def diagnostic_plots(df, variable):\n",
    "    # function takes a dataframe (df) and\n",
    "    # the variable of interest as arguments\n",
    "\n",
    "    # define figure size\n",
    "    plt.figure(figsize=(16, 4))\n",
    "\n",
    "    # histogram\n",
    "    plt.subplot(1, 3, 1)\n",
    "    sns.distplot(df[variable], bins=30,fit=norm)\n",
    "    plt.title('Histogram')\n",
    "\n",
    "    # Q-Q plot\n",
    "    plt.subplot(1, 3, 2)\n",
    "    stats.probplot(df[variable], dist=\"norm\", plot=plt)\n",
    "    plt.ylabel('Variable quantiles')\n",
    "\n",
    "    # boxplot\n",
    "    plt.subplot(1, 3, 3)\n",
    "    sns.boxplot(y=df[variable])\n",
    "    plt.title('Boxplot')\n",
    "\n",
    "    plt.show()"
   ]
  },
  {
   "cell_type": "code",
   "execution_count": 17,
   "metadata": {},
   "outputs": [
    {
     "data": {
      "image/png": "[encoded data removed]",
      "text/plain": [
       "<Figure size 1152x288 with 3 Axes>"
      ]
     },
     "metadata": {
      "needs_background": "light"
     },
     "output_type": "display_data"
    }
   ],
   "source": [
    "diagnostic_plots(df,\"trip_time\")"
   ]
  },
  {
   "cell_type": "code",
   "execution_count": 18,
   "metadata": {},
   "outputs": [],
   "source": [
    "def find_skewed_boundaries(df, variable, distance):\n",
    "\n",
    "    # Let's calculate the boundaries outside which sit the outliers\n",
    "    # for skewed distributions\n",
    "\n",
    "    # distance passed as an argument, gives us the option to\n",
    "    # estimate 1.5 times or 3 times the IQR to calculate\n",
    "    # the boundaries.\n",
    "\n",
    "    IQR = df[variable].quantile(0.75) - df[variable].quantile(0.25)\n",
    "\n",
    "    lower_boundary = df[variable].quantile(0.25) - (IQR * distance)\n",
    "    upper_boundary = df[variable].quantile(0.75) + (IQR * distance)\n",
    "\n",
    "    return upper_boundary, lower_boundary"
   ]
  },
  {
   "cell_type": "code",
   "execution_count": 19,
   "metadata": {},
   "outputs": [
    {
     "data": {
      "text/plain": [
       "(30.24166666666667, -8.358333333333338)"
      ]
     },
     "execution_count": 19,
     "metadata": {},
     "output_type": "execute_result"
    }
   ],
   "source": [
    "RM_upper_limit, RM_lower_limit = find_skewed_boundaries(df, 'trip_time', 1.5)\n",
    "RM_upper_limit, RM_lower_limit"
   ]
  },
  {
   "cell_type": "code",
   "execution_count": 20,
   "metadata": {},
   "outputs": [],
   "source": [
    "# remove \"trip_times\" outliers\n",
    "df = df[(df.trip_time > 1) & (df.trip_time < RM_upper_limit)]"
   ]
  },
  {
   "cell_type": "code",
   "execution_count": 21,
   "metadata": {},
   "outputs": [
    {
     "data": {
      "image/png": "[encoded data removed]",
      "text/plain": [
       "<Figure size 1152x288 with 3 Axes>"
      ]
     },
     "metadata": {
      "needs_background": "light"
     },
     "output_type": "display_data"
    }
   ],
   "source": [
    "diagnostic_plots(df,\"trip_time\")"
   ]
  },
  {
   "cell_type": "code",
   "execution_count": 22,
   "metadata": {},
   "outputs": [],
   "source": [
    "# Log Transform\n",
    "df['trip_time_to_log'] = np.log1p(df['trip_time'])"
   ]
  },
  {
   "cell_type": "code",
   "execution_count": 23,
   "metadata": {},
   "outputs": [
    {
     "data": {
      "image/png": "[encoded data removed]",
      "text/plain": [
       "<Figure size 1152x288 with 3 Axes>"
      ]
     },
     "metadata": {
      "needs_background": "light"
     },
     "output_type": "display_data"
    }
   ],
   "source": [
    "diagnostic_plots(df,\"trip_time_to_log\")"
   ]
  },
  {
   "cell_type": "markdown",
   "metadata": {},
   "source": [
    "## Drop Outliers for Speed"
   ]
  },
  {
   "cell_type": "code",
   "execution_count": 24,
   "metadata": {},
   "outputs": [
    {
     "data": {
      "text/plain": [
       "(32.597260273972594, -9.863013698630134)"
      ]
     },
     "execution_count": 24,
     "metadata": {},
     "output_type": "execute_result"
    }
   ],
   "source": [
    "Speed_upper_limit, Speed_lower_limit = find_skewed_boundaries(df, 'Speed', 3)\n",
    "Speed_upper_limit, Speed_lower_limit"
   ]
  },
  {
   "cell_type": "code",
   "execution_count": 25,
   "metadata": {},
   "outputs": [],
   "source": [
    "# remove \"trip_times\" outliers\n",
    "df = df[(df[\"Speed\"] > 0) & (df[\"Speed\"] < Speed_upper_limit)]"
   ]
  },
  {
   "cell_type": "code",
   "execution_count": 26,
   "metadata": {},
   "outputs": [
    {
     "name": "stdout",
     "output_type": "stream",
     "text": [
      "Average Speed in NYC by Taxi: 11.839069851666402\n"
     ]
    }
   ],
   "source": [
    "avg_speed = sum(df[\"Speed\"])/len(df[\"Speed\"])\n",
    "print(\"Average Speed in NYC by Taxi:\",avg_speed)"
   ]
  },
  {
   "cell_type": "markdown",
   "metadata": {},
   "source": [
    "* I will accept\n",
    "* The avg speed in Newyork speed is 11.83 miles/hr, so a cab driver can travel 2 miles per 10min on avg."
   ]
  },
  {
   "cell_type": "code",
   "execution_count": 27,
   "metadata": {},
   "outputs": [
    {
     "data": {
      "image/png": "[encoded data removed]",
      "text/plain": [
       "<Figure size 1152x288 with 3 Axes>"
      ]
     },
     "metadata": {
      "needs_background": "light"
     },
     "output_type": "display_data"
    }
   ],
   "source": [
    "diagnostic_plots(df,\"Speed\")"
   ]
  },
  {
   "cell_type": "markdown",
   "metadata": {},
   "source": [
    "## Drop Outliers for Trip Distance"
   ]
  },
  {
   "cell_type": "code",
   "execution_count": 28,
   "metadata": {},
   "outputs": [
    {
     "data": {
      "text/plain": [
       "(23.220000000000002, -19.530000000000005)"
      ]
     },
     "execution_count": 28,
     "metadata": {},
     "output_type": "execute_result"
    }
   ],
   "source": [
    "trip_distance_upper_limit, trip_distance_lower_limit = find_skewed_boundaries(df, 'trip_distance', 12)\n",
    "trip_distance_upper_limit, trip_distance_lower_limit"
   ]
  },
  {
   "cell_type": "code",
   "execution_count": 29,
   "metadata": {},
   "outputs": [],
   "source": [
    "df = df[(df.trip_distance > 0) & (df.trip_distance < trip_distance_upper_limit)]"
   ]
  },
  {
   "cell_type": "markdown",
   "metadata": {},
   "source": [
    "## Drop Outliers for Total Amount"
   ]
  },
  {
   "cell_type": "code",
   "execution_count": 30,
   "metadata": {},
   "outputs": [
    {
     "data": {
      "text/plain": [
       "(99.0, -76.0)"
      ]
     },
     "execution_count": 30,
     "metadata": {},
     "output_type": "execute_result"
    }
   ],
   "source": [
    "total_amount_upper_limit, total_amount_lower_limit = find_skewed_boundaries(df, 'total_amount', 12)\n",
    "total_amount_upper_limit, total_amount_lower_limit"
   ]
  },
  {
   "cell_type": "code",
   "execution_count": 31,
   "metadata": {},
   "outputs": [],
   "source": [
    "df = df[(df[\"total_amount\"] > 0) & (df[\"total_amount\"] < total_amount_upper_limit)]"
   ]
  },
  {
   "cell_type": "code",
   "execution_count": 32,
   "metadata": {},
   "outputs": [
    {
     "data": {
      "text/html": [
       "<div>\n",
       "<style scoped>\n",
       "    .dataframe tbody tr th:only-of-type {\n",
       "        vertical-align: middle;\n",
       "    }\n",
       "\n",
       "    .dataframe tbody tr th {\n",
       "        vertical-align: top;\n",
       "    }\n",
       "\n",
       "    .dataframe thead th {\n",
       "        text-align: right;\n",
       "    }\n",
       "</style>\n",
       "<table border=\"1\" class=\"dataframe\">\n",
       "  <thead>\n",
       "    <tr style=\"text-align: right;\">\n",
       "      <th></th>\n",
       "      <th>passenger_count</th>\n",
       "      <th>trip_distance</th>\n",
       "      <th>pickup_longitude</th>\n",
       "      <th>pickup_latitude</th>\n",
       "      <th>dropoff_longitude</th>\n",
       "      <th>dropoff_latitude</th>\n",
       "      <th>total_amount</th>\n",
       "      <th>trip_time</th>\n",
       "      <th>pickup_time</th>\n",
       "      <th>Speed</th>\n",
       "      <th>trip_time_to_log</th>\n",
       "    </tr>\n",
       "  </thead>\n",
       "  <tbody>\n",
       "    <tr>\n",
       "      <th>0</th>\n",
       "      <td>1</td>\n",
       "      <td>1.59</td>\n",
       "      <td>-73.993896</td>\n",
       "      <td>40.750111</td>\n",
       "      <td>-73.974785</td>\n",
       "      <td>40.750618</td>\n",
       "      <td>17.05</td>\n",
       "      <td>18.050000</td>\n",
       "      <td>1.421338e+09</td>\n",
       "      <td>5.285319</td>\n",
       "      <td>2.947067</td>\n",
       "    </tr>\n",
       "    <tr>\n",
       "      <th>1</th>\n",
       "      <td>1</td>\n",
       "      <td>3.30</td>\n",
       "      <td>-74.001648</td>\n",
       "      <td>40.724243</td>\n",
       "      <td>-73.994415</td>\n",
       "      <td>40.759109</td>\n",
       "      <td>17.80</td>\n",
       "      <td>19.833333</td>\n",
       "      <td>1.420911e+09</td>\n",
       "      <td>9.983193</td>\n",
       "      <td>3.036554</td>\n",
       "    </tr>\n",
       "    <tr>\n",
       "      <th>2</th>\n",
       "      <td>1</td>\n",
       "      <td>1.80</td>\n",
       "      <td>-73.963341</td>\n",
       "      <td>40.802788</td>\n",
       "      <td>-73.951820</td>\n",
       "      <td>40.824413</td>\n",
       "      <td>10.80</td>\n",
       "      <td>10.050000</td>\n",
       "      <td>1.420911e+09</td>\n",
       "      <td>10.746269</td>\n",
       "      <td>2.402430</td>\n",
       "    </tr>\n",
       "    <tr>\n",
       "      <th>3</th>\n",
       "      <td>1</td>\n",
       "      <td>0.50</td>\n",
       "      <td>-74.009087</td>\n",
       "      <td>40.713818</td>\n",
       "      <td>-74.004326</td>\n",
       "      <td>40.719986</td>\n",
       "      <td>4.80</td>\n",
       "      <td>1.866667</td>\n",
       "      <td>1.420911e+09</td>\n",
       "      <td>16.071429</td>\n",
       "      <td>1.053150</td>\n",
       "    </tr>\n",
       "    <tr>\n",
       "      <th>4</th>\n",
       "      <td>1</td>\n",
       "      <td>3.00</td>\n",
       "      <td>-73.971176</td>\n",
       "      <td>40.762428</td>\n",
       "      <td>-74.004181</td>\n",
       "      <td>40.742653</td>\n",
       "      <td>16.30</td>\n",
       "      <td>19.316667</td>\n",
       "      <td>1.420911e+09</td>\n",
       "      <td>9.318378</td>\n",
       "      <td>3.011442</td>\n",
       "    </tr>\n",
       "  </tbody>\n",
       "</table>\n",
       "</div>"
      ],
      "text/plain": [
       "   passenger_count  trip_distance  pickup_longitude  pickup_latitude  \\\n",
       "0                1           1.59        -73.993896        40.750111   \n",
       "1                1           3.30        -74.001648        40.724243   \n",
       "2                1           1.80        -73.963341        40.802788   \n",
       "3                1           0.50        -74.009087        40.713818   \n",
       "4                1           3.00        -73.971176        40.762428   \n",
       "\n",
       "   dropoff_longitude  dropoff_latitude  total_amount  trip_time   pickup_time  \\\n",
       "0         -73.974785         40.750618         17.05  18.050000  1.421338e+09   \n",
       "1         -73.994415         40.759109         17.80  19.833333  1.420911e+09   \n",
       "2         -73.951820         40.824413         10.80  10.050000  1.420911e+09   \n",
       "3         -74.004326         40.719986          4.80   1.866667  1.420911e+09   \n",
       "4         -74.004181         40.742653         16.30  19.316667  1.420911e+09   \n",
       "\n",
       "       Speed  trip_time_to_log  \n",
       "0   5.285319          2.947067  \n",
       "1   9.983193          3.036554  \n",
       "2  10.746269          2.402430  \n",
       "3  16.071429          1.053150  \n",
       "4   9.318378          3.011442  "
      ]
     },
     "execution_count": 32,
     "metadata": {},
     "output_type": "execute_result"
    }
   ],
   "source": [
    "df.head()"
   ]
  },
  {
   "cell_type": "markdown",
   "metadata": {},
   "source": [
    "## Clustering"
   ]
  },
  {
   "cell_type": "code",
   "execution_count": 33,
   "metadata": {},
   "outputs": [],
   "source": [
    "from sklearn.cluster import MiniBatchKMeans, KMeans\n",
    "import gpxpy.geo\n",
    "from datetime import datetime"
   ]
  },
  {
   "cell_type": "code",
   "execution_count": 34,
   "metadata": {},
   "outputs": [],
   "source": [
    "coord = df[[\"pickup_latitude\", \"pickup_longitude\"]].values\n",
    "neighbors = []\n",
    "\n",
    "def min_distance(regionCenters, totalClusters):\n",
    "    good_points = 0\n",
    "    bad_points = 0\n",
    "    less_dist = []\n",
    "    more_dist = []\n",
    "    min_distance = 100000  #any big number can be given here\n",
    "    for i in range(totalClusters):\n",
    "        good_points = 0\n",
    "        bad_points = 0\n",
    "        for j in range(totalClusters):\n",
    "            if j != i:\n",
    "                distance = gpxpy.geo.haversine_distance(latitude_1 = regionCenters[i][0], longitude_1 = regionCenters[i][1], latitude_2 = regionCenters[j][0], longitude_2 = regionCenters[j][1])\n",
    "                #you can check the documentation of above \"gpxpy.geo.haversine_distance\" at \"https://github.com/tkrajina/gpxpy/blob/master/gpxpy/geo.py\"\n",
    "                #\"gpxpy.geo.haversine_distance\" gives distance between two latitudes and longitudes in meters. So, we have to convert it into miles.\n",
    "                distance = distance/(1.60934*1000)   #distance from meters to miles\n",
    "                min_distance = min(min_distance, distance) #it will return minimum of \"min_distance, distance\".\n",
    "                if distance < 2:\n",
    "                    good_points += 1\n",
    "                else:\n",
    "                    bad_points += 1\n",
    "        less_dist.append(good_points)\n",
    "        more_dist.append(bad_points)\n",
    "    print(\"On choosing a cluster size of {}\".format(totalClusters))\n",
    "    print(\"Avg. Number clusters within vicinity where inter cluster distance < 2 miles is {}\".format(np.ceil(sum(less_dist)/len(less_dist))))\n",
    "    print(\"Avg. Number clusters outside of vicinity where inter cluster distance > 2 miles is {}\".format(np.ceil(sum(more_dist)/len(more_dist))))\n",
    "    print(\"Minimum distance between any two clusters = {}\".format(min_distance))\n",
    "    print(\"-\"*10)\n",
    "            \n",
    "def makingRegions(noOfRegions):\n",
    "    regions = MiniBatchKMeans(n_clusters = noOfRegions, batch_size = 10000).fit(coord)\n",
    "    regionCenters = regions.cluster_centers_ \n",
    "    totalClusters = len(regionCenters)\n",
    "    return regionCenters, totalClusters"
   ]
  },
  {
   "cell_type": "code",
   "execution_count": 35,
   "metadata": {},
   "outputs": [
    {
     "name": "stdout",
     "output_type": "stream",
     "text": [
      "On choosing a cluster size of 10\n",
      "Avg. Number clusters within vicinity where inter cluster distance < 2 miles is 2.0\n",
      "Avg. Number clusters outside of vicinity where inter cluster distance > 2 miles is 8.0\n",
      "Minimum distance between any two clusters = 1.1248312344738485\n",
      "----------\n",
      "On choosing a cluster size of 20\n",
      "Avg. Number clusters within vicinity where inter cluster distance < 2 miles is 4.0\n",
      "Avg. Number clusters outside of vicinity where inter cluster distance > 2 miles is 16.0\n",
      "Minimum distance between any two clusters = 0.6800781882835398\n",
      "----------\n",
      "On choosing a cluster size of 30\n",
      "Avg. Number clusters within vicinity where inter cluster distance < 2 miles is 7.0\n",
      "Avg. Number clusters outside of vicinity where inter cluster distance > 2 miles is 23.0\n",
      "Minimum distance between any two clusters = 0.4905258131803703\n",
      "----------\n",
      "On choosing a cluster size of 40\n",
      "Avg. Number clusters within vicinity where inter cluster distance < 2 miles is 11.0\n",
      "Avg. Number clusters outside of vicinity where inter cluster distance > 2 miles is 29.0\n",
      "Minimum distance between any two clusters = 0.3933246855865492\n",
      "----------\n",
      "On choosing a cluster size of 50\n",
      "Avg. Number clusters within vicinity where inter cluster distance < 2 miles is 13.0\n",
      "Avg. Number clusters outside of vicinity where inter cluster distance > 2 miles is 37.0\n",
      "Minimum distance between any two clusters = 0.38101621164128596\n",
      "----------\n",
      "On choosing a cluster size of 60\n",
      "Avg. Number clusters within vicinity where inter cluster distance < 2 miles is 17.0\n",
      "Avg. Number clusters outside of vicinity where inter cluster distance > 2 miles is 42.0\n",
      "Minimum distance between any two clusters = 0.25703561150490706\n",
      "----------\n",
      "On choosing a cluster size of 70\n",
      "Avg. Number clusters within vicinity where inter cluster distance < 2 miles is 19.0\n",
      "Avg. Number clusters outside of vicinity where inter cluster distance > 2 miles is 51.0\n",
      "Minimum distance between any two clusters = 0.30235886706986037\n",
      "----------\n",
      "On choosing a cluster size of 80\n",
      "Avg. Number clusters within vicinity where inter cluster distance < 2 miles is 22.0\n",
      "Avg. Number clusters outside of vicinity where inter cluster distance > 2 miles is 58.0\n",
      "Minimum distance between any two clusters = 0.27677617773757573\n",
      "----------\n",
      "On choosing a cluster size of 90\n",
      "Avg. Number clusters within vicinity where inter cluster distance < 2 miles is 24.0\n",
      "Avg. Number clusters outside of vicinity where inter cluster distance > 2 miles is 66.0\n",
      "Minimum distance between any two clusters = 0.23656305459367113\n",
      "----------\n",
      "Time taken = 0:04:59.652761\n"
     ]
    }
   ],
   "source": [
    "startTime = datetime.now()\n",
    "for i in range(10, 100, 10):\n",
    "    regionCenters, totalClusters = makingRegions(i)\n",
    "    min_distance(regionCenters, totalClusters)\n",
    "print(\"Time taken = \"+str(datetime.now() - startTime))"
   ]
  },
  {
   "cell_type": "markdown",
   "metadata": {},
   "source": [
    "* <b>We want the minimum inter cluster distance between any two clusters to be less than 0.5miles and when number of clusters are 30 then this condition is almost meeting. Therefore, we are considering number of clusters to be 30</b>"
   ]
  },
  {
   "cell_type": "code",
   "execution_count": 36,
   "metadata": {},
   "outputs": [
    {
     "data": {
      "text/html": [
       "<div>\n",
       "<style scoped>\n",
       "    .dataframe tbody tr th:only-of-type {\n",
       "        vertical-align: middle;\n",
       "    }\n",
       "\n",
       "    .dataframe tbody tr th {\n",
       "        vertical-align: top;\n",
       "    }\n",
       "\n",
       "    .dataframe thead th {\n",
       "        text-align: right;\n",
       "    }\n",
       "</style>\n",
       "<table border=\"1\" class=\"dataframe\">\n",
       "  <thead>\n",
       "    <tr style=\"text-align: right;\">\n",
       "      <th></th>\n",
       "      <th>passenger_count</th>\n",
       "      <th>trip_distance</th>\n",
       "      <th>pickup_longitude</th>\n",
       "      <th>pickup_latitude</th>\n",
       "      <th>dropoff_longitude</th>\n",
       "      <th>dropoff_latitude</th>\n",
       "      <th>total_amount</th>\n",
       "      <th>trip_time</th>\n",
       "      <th>pickup_time</th>\n",
       "      <th>Speed</th>\n",
       "      <th>trip_time_to_log</th>\n",
       "      <th>pickup_cluster</th>\n",
       "    </tr>\n",
       "  </thead>\n",
       "  <tbody>\n",
       "    <tr>\n",
       "      <th>0</th>\n",
       "      <td>1</td>\n",
       "      <td>1.59</td>\n",
       "      <td>-73.993896</td>\n",
       "      <td>40.750111</td>\n",
       "      <td>-73.974785</td>\n",
       "      <td>40.750618</td>\n",
       "      <td>17.05</td>\n",
       "      <td>18.050000</td>\n",
       "      <td>1.421338e+09</td>\n",
       "      <td>5.285319</td>\n",
       "      <td>2.947067</td>\n",
       "      <td>1</td>\n",
       "    </tr>\n",
       "    <tr>\n",
       "      <th>1</th>\n",
       "      <td>1</td>\n",
       "      <td>3.30</td>\n",
       "      <td>-74.001648</td>\n",
       "      <td>40.724243</td>\n",
       "      <td>-73.994415</td>\n",
       "      <td>40.759109</td>\n",
       "      <td>17.80</td>\n",
       "      <td>19.833333</td>\n",
       "      <td>1.420911e+09</td>\n",
       "      <td>9.983193</td>\n",
       "      <td>3.036554</td>\n",
       "      <td>15</td>\n",
       "    </tr>\n",
       "    <tr>\n",
       "      <th>2</th>\n",
       "      <td>1</td>\n",
       "      <td>1.80</td>\n",
       "      <td>-73.963341</td>\n",
       "      <td>40.802788</td>\n",
       "      <td>-73.951820</td>\n",
       "      <td>40.824413</td>\n",
       "      <td>10.80</td>\n",
       "      <td>10.050000</td>\n",
       "      <td>1.420911e+09</td>\n",
       "      <td>10.746269</td>\n",
       "      <td>2.402430</td>\n",
       "      <td>18</td>\n",
       "    </tr>\n",
       "    <tr>\n",
       "      <th>3</th>\n",
       "      <td>1</td>\n",
       "      <td>0.50</td>\n",
       "      <td>-74.009087</td>\n",
       "      <td>40.713818</td>\n",
       "      <td>-74.004326</td>\n",
       "      <td>40.719986</td>\n",
       "      <td>4.80</td>\n",
       "      <td>1.866667</td>\n",
       "      <td>1.420911e+09</td>\n",
       "      <td>16.071429</td>\n",
       "      <td>1.053150</td>\n",
       "      <td>28</td>\n",
       "    </tr>\n",
       "    <tr>\n",
       "      <th>4</th>\n",
       "      <td>1</td>\n",
       "      <td>3.00</td>\n",
       "      <td>-73.971176</td>\n",
       "      <td>40.762428</td>\n",
       "      <td>-74.004181</td>\n",
       "      <td>40.742653</td>\n",
       "      <td>16.30</td>\n",
       "      <td>19.316667</td>\n",
       "      <td>1.420911e+09</td>\n",
       "      <td>9.318378</td>\n",
       "      <td>3.011442</td>\n",
       "      <td>26</td>\n",
       "    </tr>\n",
       "  </tbody>\n",
       "</table>\n",
       "</div>"
      ],
      "text/plain": [
       "   passenger_count  trip_distance  pickup_longitude  pickup_latitude  \\\n",
       "0                1           1.59        -73.993896        40.750111   \n",
       "1                1           3.30        -74.001648        40.724243   \n",
       "2                1           1.80        -73.963341        40.802788   \n",
       "3                1           0.50        -74.009087        40.713818   \n",
       "4                1           3.00        -73.971176        40.762428   \n",
       "\n",
       "   dropoff_longitude  dropoff_latitude  total_amount  trip_time   pickup_time  \\\n",
       "0         -73.974785         40.750618         17.05  18.050000  1.421338e+09   \n",
       "1         -73.994415         40.759109         17.80  19.833333  1.420911e+09   \n",
       "2         -73.951820         40.824413         10.80  10.050000  1.420911e+09   \n",
       "3         -74.004326         40.719986          4.80   1.866667  1.420911e+09   \n",
       "4         -74.004181         40.742653         16.30  19.316667  1.420911e+09   \n",
       "\n",
       "       Speed  trip_time_to_log  pickup_cluster  \n",
       "0   5.285319          2.947067               1  \n",
       "1   9.983193          3.036554              15  \n",
       "2  10.746269          2.402430              18  \n",
       "3  16.071429          1.053150              28  \n",
       "4   9.318378          3.011442              26  "
      ]
     },
     "execution_count": 36,
     "metadata": {},
     "output_type": "execute_result"
    }
   ],
   "source": [
    "lat_long = df[[\"pickup_latitude\", \"pickup_longitude\"]]\n",
    "minikmeans = MiniBatchKMeans(n_clusters = 30, batch_size = 10000).fit(lat_long)\n",
    "df[\"pickup_cluster\"] = minikmeans.predict(df[[\"pickup_latitude\", \"pickup_longitude\"]])\n",
    "df.head()"
   ]
  },
  {
   "cell_type": "code",
   "execution_count": 37,
   "metadata": {},
   "outputs": [
    {
     "data": {
      "image/png": "[encoded data removed]",
      "text/plain": [
       "<Figure size 432x288 with 1 Axes>"
      ]
     },
     "metadata": {
      "needs_background": "light"
     },
     "output_type": "display_data"
    }
   ],
   "source": [
    "NYC_latitude_range = (40.5774, 40.9176)\n",
    "NYC_Longitude_range = (-74.15, -73.7004)\n",
    "fig = plt.figure()\n",
    "ax = fig.add_axes([0,0,1.5,1.5])\n",
    "ax.scatter(x = df[\"pickup_longitude\"].values[:70000], y = df[\"pickup_latitude\"].values[:70000], c = df[\"pickup_cluster\"].values[:70000], cmap = \"Paired\", s = 5)\n",
    "ax.set_xlim(-74.10, -73.72)\n",
    "ax.set_ylim(40.5774, 40.9176)\n",
    "ax.set_title(\"Regions in New York City\")\n",
    "ax.set_xlabel('Longitude')\n",
    "ax.set_ylabel('Latitude')\n",
    "plt.show()\n",
    "#Longitude values vary from left to right i.e., horizontally\n",
    "#Latitude values vary from top to bottom means i.e., vertically"
   ]
  },
  {
   "cell_type": "markdown",
   "metadata": {},
   "source": [
    "## Time Binning\n",
    "* <b>In the above function we are just subtracting the pickup time from the unix time of 12:00AM 1st Jan 2015, and after that we are dividing that with 600 in order to make a 10minute bin, that's it.\n",
    "    \n",
    "* For Jan 2016 data we are just subtracting its corresponding pickup time from the unix time of 12:00AM 1st Jan 2016.</b>"
   ]
  },
  {
   "cell_type": "code",
   "execution_count": 38,
   "metadata": {},
   "outputs": [],
   "source": [
    "# 1420070400 : 2015-01-01 00:00:00   (Equivalent unix time)\n",
    "# 1451606400 : 2016-01-01 00:00:00   (Equivalent unix time)\n",
    "\n",
    "def pickup_10min_bins(dataframe, month, year):\n",
    "    pickupTime = dataframe[\"pickup_time\"].values\n",
    "    unixTime = [1420070400, 1451606400]\n",
    "    unix_year = unixTime[year-2015]\n",
    "    time_10min_bin = [int((i - unix_year)/600) for i in pickupTime]\n",
    "    dataframe[\"time_bin\"] = np.array(time_10min_bin)\n",
    "    return dataframe"
   ]
  },
  {
   "cell_type": "code",
   "execution_count": 39,
   "metadata": {},
   "outputs": [
    {
     "data": {
      "text/html": [
       "<div>\n",
       "<style scoped>\n",
       "    .dataframe tbody tr th:only-of-type {\n",
       "        vertical-align: middle;\n",
       "    }\n",
       "\n",
       "    .dataframe tbody tr th {\n",
       "        vertical-align: top;\n",
       "    }\n",
       "\n",
       "    .dataframe thead th {\n",
       "        text-align: right;\n",
       "    }\n",
       "</style>\n",
       "<table border=\"1\" class=\"dataframe\">\n",
       "  <thead>\n",
       "    <tr style=\"text-align: right;\">\n",
       "      <th></th>\n",
       "      <th>passenger_count</th>\n",
       "      <th>trip_distance</th>\n",
       "      <th>pickup_longitude</th>\n",
       "      <th>pickup_latitude</th>\n",
       "      <th>dropoff_longitude</th>\n",
       "      <th>dropoff_latitude</th>\n",
       "      <th>total_amount</th>\n",
       "      <th>trip_time</th>\n",
       "      <th>pickup_time</th>\n",
       "      <th>Speed</th>\n",
       "      <th>trip_time_to_log</th>\n",
       "      <th>pickup_cluster</th>\n",
       "      <th>time_bin</th>\n",
       "    </tr>\n",
       "  </thead>\n",
       "  <tbody>\n",
       "    <tr>\n",
       "      <th>0</th>\n",
       "      <td>1</td>\n",
       "      <td>1.59</td>\n",
       "      <td>-73.993896</td>\n",
       "      <td>40.750111</td>\n",
       "      <td>-73.974785</td>\n",
       "      <td>40.750618</td>\n",
       "      <td>17.05</td>\n",
       "      <td>18.050000</td>\n",
       "      <td>1.421338e+09</td>\n",
       "      <td>5.285319</td>\n",
       "      <td>2.947067</td>\n",
       "      <td>1</td>\n",
       "      <td>2112</td>\n",
       "    </tr>\n",
       "    <tr>\n",
       "      <th>1</th>\n",
       "      <td>1</td>\n",
       "      <td>3.30</td>\n",
       "      <td>-74.001648</td>\n",
       "      <td>40.724243</td>\n",
       "      <td>-73.994415</td>\n",
       "      <td>40.759109</td>\n",
       "      <td>17.80</td>\n",
       "      <td>19.833333</td>\n",
       "      <td>1.420911e+09</td>\n",
       "      <td>9.983193</td>\n",
       "      <td>3.036554</td>\n",
       "      <td>15</td>\n",
       "      <td>1401</td>\n",
       "    </tr>\n",
       "    <tr>\n",
       "      <th>2</th>\n",
       "      <td>1</td>\n",
       "      <td>1.80</td>\n",
       "      <td>-73.963341</td>\n",
       "      <td>40.802788</td>\n",
       "      <td>-73.951820</td>\n",
       "      <td>40.824413</td>\n",
       "      <td>10.80</td>\n",
       "      <td>10.050000</td>\n",
       "      <td>1.420911e+09</td>\n",
       "      <td>10.746269</td>\n",
       "      <td>2.402430</td>\n",
       "      <td>18</td>\n",
       "      <td>1401</td>\n",
       "    </tr>\n",
       "    <tr>\n",
       "      <th>3</th>\n",
       "      <td>1</td>\n",
       "      <td>0.50</td>\n",
       "      <td>-74.009087</td>\n",
       "      <td>40.713818</td>\n",
       "      <td>-74.004326</td>\n",
       "      <td>40.719986</td>\n",
       "      <td>4.80</td>\n",
       "      <td>1.866667</td>\n",
       "      <td>1.420911e+09</td>\n",
       "      <td>16.071429</td>\n",
       "      <td>1.053150</td>\n",
       "      <td>28</td>\n",
       "      <td>1401</td>\n",
       "    </tr>\n",
       "    <tr>\n",
       "      <th>4</th>\n",
       "      <td>1</td>\n",
       "      <td>3.00</td>\n",
       "      <td>-73.971176</td>\n",
       "      <td>40.762428</td>\n",
       "      <td>-74.004181</td>\n",
       "      <td>40.742653</td>\n",
       "      <td>16.30</td>\n",
       "      <td>19.316667</td>\n",
       "      <td>1.420911e+09</td>\n",
       "      <td>9.318378</td>\n",
       "      <td>3.011442</td>\n",
       "      <td>26</td>\n",
       "      <td>1401</td>\n",
       "    </tr>\n",
       "  </tbody>\n",
       "</table>\n",
       "</div>"
      ],
      "text/plain": [
       "   passenger_count  trip_distance  pickup_longitude  pickup_latitude  \\\n",
       "0                1           1.59        -73.993896        40.750111   \n",
       "1                1           3.30        -74.001648        40.724243   \n",
       "2                1           1.80        -73.963341        40.802788   \n",
       "3                1           0.50        -74.009087        40.713818   \n",
       "4                1           3.00        -73.971176        40.762428   \n",
       "\n",
       "   dropoff_longitude  dropoff_latitude  total_amount  trip_time   pickup_time  \\\n",
       "0         -73.974785         40.750618         17.05  18.050000  1.421338e+09   \n",
       "1         -73.994415         40.759109         17.80  19.833333  1.420911e+09   \n",
       "2         -73.951820         40.824413         10.80  10.050000  1.420911e+09   \n",
       "3         -74.004326         40.719986          4.80   1.866667  1.420911e+09   \n",
       "4         -74.004181         40.742653         16.30  19.316667  1.420911e+09   \n",
       "\n",
       "       Speed  trip_time_to_log  pickup_cluster  time_bin  \n",
       "0   5.285319          2.947067               1      2112  \n",
       "1   9.983193          3.036554              15      1401  \n",
       "2  10.746269          2.402430              18      1401  \n",
       "3  16.071429          1.053150              28      1401  \n",
       "4   9.318378          3.011442              26      1401  "
      ]
     },
     "execution_count": 39,
     "metadata": {},
     "output_type": "execute_result"
    }
   ],
   "source": [
    "df = pickup_10min_bins(df, 1, 2015)\n",
    "df.head()"
   ]
  },
  {
   "cell_type": "code",
   "execution_count": 40,
   "metadata": {},
   "outputs": [
    {
     "data": {
      "text/plain": [
       "4463"
      ]
     },
     "execution_count": 40,
     "metadata": {},
     "output_type": "execute_result"
    }
   ],
   "source": [
    "# There should be ((24*60)/10)*31 unique 10 minute time bins for the month of January 2015:\n",
    "len(df[\"time_bin\"].value_counts())"
   ]
  },
  {
   "cell_type": "code",
   "execution_count": 43,
   "metadata": {},
   "outputs": [],
   "source": [
    "df = df[df[\"time_bin\"]>=0]"
   ]
  },
  {
   "cell_type": "code",
   "execution_count": 44,
   "metadata": {},
   "outputs": [
    {
     "data": {
      "text/html": [
       "<div>\n",
       "<style scoped>\n",
       "    .dataframe tbody tr th:only-of-type {\n",
       "        vertical-align: middle;\n",
       "    }\n",
       "\n",
       "    .dataframe tbody tr th {\n",
       "        vertical-align: top;\n",
       "    }\n",
       "\n",
       "    .dataframe thead th {\n",
       "        text-align: right;\n",
       "    }\n",
       "</style>\n",
       "<table border=\"1\" class=\"dataframe\">\n",
       "  <thead>\n",
       "    <tr style=\"text-align: right;\">\n",
       "      <th></th>\n",
       "      <th></th>\n",
       "      <th>trip_distance</th>\n",
       "    </tr>\n",
       "    <tr>\n",
       "      <th>pickup_cluster</th>\n",
       "      <th>time_bin</th>\n",
       "      <th></th>\n",
       "    </tr>\n",
       "  </thead>\n",
       "  <tbody>\n",
       "    <tr>\n",
       "      <th rowspan=\"5\" valign=\"top\">0</th>\n",
       "      <th>0</th>\n",
       "      <td>296</td>\n",
       "    </tr>\n",
       "    <tr>\n",
       "      <th>1</th>\n",
       "      <td>114</td>\n",
       "    </tr>\n",
       "    <tr>\n",
       "      <th>2</th>\n",
       "      <td>109</td>\n",
       "    </tr>\n",
       "    <tr>\n",
       "      <th>3</th>\n",
       "      <td>117</td>\n",
       "    </tr>\n",
       "    <tr>\n",
       "      <th>4</th>\n",
       "      <td>92</td>\n",
       "    </tr>\n",
       "  </tbody>\n",
       "</table>\n",
       "</div>"
      ],
      "text/plain": [
       "                         trip_distance\n",
       "pickup_cluster time_bin               \n",
       "0              0                   296\n",
       "               1                   114\n",
       "               2                   109\n",
       "               3                   117\n",
       "               4                    92"
      ]
     },
     "execution_count": 44,
     "metadata": {},
     "output_type": "execute_result"
    }
   ],
   "source": [
    "df_groupby = df[[\"pickup_cluster\", \"time_bin\", \"trip_distance\"]].groupby([\"pickup_cluster\", \"time_bin\"]).count()\n",
    "df_groupby.head()"
   ]
  },
  {
   "cell_type": "markdown",
   "metadata": {},
   "source": [
    "## Data Preparation for Januray 2016"
   ]
  },
  {
   "cell_type": "code",
   "execution_count": 42,
   "metadata": {},
   "outputs": [],
   "source": [
    "# now doing the same operations for the month of Jan 2016.\n",
    "df_2016 = pd.read_csv(\"yellow_tripdata_2016-01.csv\")"
   ]
  },
  {
   "cell_type": "code",
   "execution_count": 45,
   "metadata": {},
   "outputs": [],
   "source": [
    "df_2016 = df_2016[~((df_2016.pickup_longitude <= -74.15)  | (df_2016.pickup_latitude <= 40.5774)| \\\n",
    "                   (df_2016.pickup_longitude >= -73.7004) | (df_2016.pickup_latitude >= 40.9176))]\n",
    "df_2016 = df_2016[~((df_2016.dropoff_longitude <= -74.15) | (df_2016.dropoff_latitude <= 40.5774)| \n",
    "                  (df_2016.dropoff_longitude >= -73.7004) | (df_2016.dropoff_latitude >= 40.9176))]"
   ]
  },
  {
   "cell_type": "code",
   "execution_count": 46,
   "metadata": {},
   "outputs": [],
   "source": [
    "# Object to Datetime\n",
    "df_2016['tpep_pickup_datetime']  =  pd.to_datetime(df_2016['tpep_pickup_datetime'], format=\"%Y-%m-%d %H:%M:%S\")\n",
    "df_2016['tpep_dropoff_datetime'] =  pd.to_datetime(df_2016['tpep_dropoff_datetime'], format=\"%Y-%m-%d %H:%M:%S\")"
   ]
  },
  {
   "cell_type": "code",
   "execution_count": 47,
   "metadata": {},
   "outputs": [
    {
     "data": {
      "text/html": [
       "<div>\n",
       "<style scoped>\n",
       "    .dataframe tbody tr th:only-of-type {\n",
       "        vertical-align: middle;\n",
       "    }\n",
       "\n",
       "    .dataframe tbody tr th {\n",
       "        vertical-align: top;\n",
       "    }\n",
       "\n",
       "    .dataframe thead th {\n",
       "        text-align: right;\n",
       "    }\n",
       "</style>\n",
       "<table border=\"1\" class=\"dataframe\">\n",
       "  <thead>\n",
       "    <tr style=\"text-align: right;\">\n",
       "      <th></th>\n",
       "      <th>VendorID</th>\n",
       "      <th>tpep_pickup_datetime</th>\n",
       "      <th>tpep_dropoff_datetime</th>\n",
       "      <th>passenger_count</th>\n",
       "      <th>trip_distance</th>\n",
       "      <th>pickup_longitude</th>\n",
       "      <th>pickup_latitude</th>\n",
       "      <th>RatecodeID</th>\n",
       "      <th>store_and_fwd_flag</th>\n",
       "      <th>dropoff_longitude</th>\n",
       "      <th>dropoff_latitude</th>\n",
       "      <th>payment_type</th>\n",
       "      <th>fare_amount</th>\n",
       "      <th>extra</th>\n",
       "      <th>mta_tax</th>\n",
       "      <th>tip_amount</th>\n",
       "      <th>tolls_amount</th>\n",
       "      <th>improvement_surcharge</th>\n",
       "      <th>total_amount</th>\n",
       "      <th>trip_time</th>\n",
       "    </tr>\n",
       "  </thead>\n",
       "  <tbody>\n",
       "    <tr>\n",
       "      <th>0</th>\n",
       "      <td>2</td>\n",
       "      <td>2016-01-01</td>\n",
       "      <td>2016-01-01</td>\n",
       "      <td>2</td>\n",
       "      <td>1.10</td>\n",
       "      <td>-73.990372</td>\n",
       "      <td>40.734695</td>\n",
       "      <td>1</td>\n",
       "      <td>N</td>\n",
       "      <td>-73.981842</td>\n",
       "      <td>40.732407</td>\n",
       "      <td>2</td>\n",
       "      <td>7.5</td>\n",
       "      <td>0.5</td>\n",
       "      <td>0.5</td>\n",
       "      <td>0.0</td>\n",
       "      <td>0.0</td>\n",
       "      <td>0.3</td>\n",
       "      <td>8.8</td>\n",
       "      <td>0.0</td>\n",
       "    </tr>\n",
       "    <tr>\n",
       "      <th>1</th>\n",
       "      <td>2</td>\n",
       "      <td>2016-01-01</td>\n",
       "      <td>2016-01-01</td>\n",
       "      <td>5</td>\n",
       "      <td>4.90</td>\n",
       "      <td>-73.980782</td>\n",
       "      <td>40.729912</td>\n",
       "      <td>1</td>\n",
       "      <td>N</td>\n",
       "      <td>-73.944473</td>\n",
       "      <td>40.716679</td>\n",
       "      <td>1</td>\n",
       "      <td>18.0</td>\n",
       "      <td>0.5</td>\n",
       "      <td>0.5</td>\n",
       "      <td>0.0</td>\n",
       "      <td>0.0</td>\n",
       "      <td>0.3</td>\n",
       "      <td>19.3</td>\n",
       "      <td>0.0</td>\n",
       "    </tr>\n",
       "    <tr>\n",
       "      <th>2</th>\n",
       "      <td>2</td>\n",
       "      <td>2016-01-01</td>\n",
       "      <td>2016-01-01</td>\n",
       "      <td>1</td>\n",
       "      <td>10.54</td>\n",
       "      <td>-73.984550</td>\n",
       "      <td>40.679565</td>\n",
       "      <td>1</td>\n",
       "      <td>N</td>\n",
       "      <td>-73.950272</td>\n",
       "      <td>40.788925</td>\n",
       "      <td>1</td>\n",
       "      <td>33.0</td>\n",
       "      <td>0.5</td>\n",
       "      <td>0.5</td>\n",
       "      <td>0.0</td>\n",
       "      <td>0.0</td>\n",
       "      <td>0.3</td>\n",
       "      <td>34.3</td>\n",
       "      <td>0.0</td>\n",
       "    </tr>\n",
       "    <tr>\n",
       "      <th>3</th>\n",
       "      <td>2</td>\n",
       "      <td>2016-01-01</td>\n",
       "      <td>2016-01-01</td>\n",
       "      <td>1</td>\n",
       "      <td>4.75</td>\n",
       "      <td>-73.993469</td>\n",
       "      <td>40.718990</td>\n",
       "      <td>1</td>\n",
       "      <td>N</td>\n",
       "      <td>-73.962242</td>\n",
       "      <td>40.657333</td>\n",
       "      <td>2</td>\n",
       "      <td>16.5</td>\n",
       "      <td>0.0</td>\n",
       "      <td>0.5</td>\n",
       "      <td>0.0</td>\n",
       "      <td>0.0</td>\n",
       "      <td>0.3</td>\n",
       "      <td>17.3</td>\n",
       "      <td>0.0</td>\n",
       "    </tr>\n",
       "    <tr>\n",
       "      <th>4</th>\n",
       "      <td>2</td>\n",
       "      <td>2016-01-01</td>\n",
       "      <td>2016-01-01</td>\n",
       "      <td>3</td>\n",
       "      <td>1.76</td>\n",
       "      <td>-73.960625</td>\n",
       "      <td>40.781330</td>\n",
       "      <td>1</td>\n",
       "      <td>N</td>\n",
       "      <td>-73.977264</td>\n",
       "      <td>40.758514</td>\n",
       "      <td>2</td>\n",
       "      <td>8.0</td>\n",
       "      <td>0.0</td>\n",
       "      <td>0.5</td>\n",
       "      <td>0.0</td>\n",
       "      <td>0.0</td>\n",
       "      <td>0.3</td>\n",
       "      <td>8.8</td>\n",
       "      <td>0.0</td>\n",
       "    </tr>\n",
       "  </tbody>\n",
       "</table>\n",
       "</div>"
      ],
      "text/plain": [
       "   VendorID tpep_pickup_datetime tpep_dropoff_datetime  passenger_count  \\\n",
       "0         2           2016-01-01            2016-01-01                2   \n",
       "1         2           2016-01-01            2016-01-01                5   \n",
       "2         2           2016-01-01            2016-01-01                1   \n",
       "3         2           2016-01-01            2016-01-01                1   \n",
       "4         2           2016-01-01            2016-01-01                3   \n",
       "\n",
       "   trip_distance  pickup_longitude  pickup_latitude  RatecodeID  \\\n",
       "0           1.10        -73.990372        40.734695           1   \n",
       "1           4.90        -73.980782        40.729912           1   \n",
       "2          10.54        -73.984550        40.679565           1   \n",
       "3           4.75        -73.993469        40.718990           1   \n",
       "4           1.76        -73.960625        40.781330           1   \n",
       "\n",
       "  store_and_fwd_flag  dropoff_longitude  dropoff_latitude  payment_type  \\\n",
       "0                  N         -73.981842         40.732407             2   \n",
       "1                  N         -73.944473         40.716679             1   \n",
       "2                  N         -73.950272         40.788925             1   \n",
       "3                  N         -73.962242         40.657333             2   \n",
       "4                  N         -73.977264         40.758514             2   \n",
       "\n",
       "   fare_amount  extra  mta_tax  tip_amount  tolls_amount  \\\n",
       "0          7.5    0.5      0.5         0.0           0.0   \n",
       "1         18.0    0.5      0.5         0.0           0.0   \n",
       "2         33.0    0.5      0.5         0.0           0.0   \n",
       "3         16.5    0.0      0.5         0.0           0.0   \n",
       "4          8.0    0.0      0.5         0.0           0.0   \n",
       "\n",
       "   improvement_surcharge  total_amount  trip_time  \n",
       "0                    0.3           8.8        0.0  \n",
       "1                    0.3          19.3        0.0  \n",
       "2                    0.3          34.3        0.0  \n",
       "3                    0.3          17.3        0.0  \n",
       "4                    0.3           8.8        0.0  "
      ]
     },
     "execution_count": 47,
     "metadata": {},
     "output_type": "execute_result"
    }
   ],
   "source": [
    "# find total duration time\n",
    "df_2016['trip_time'] = df_2016['tpep_dropoff_datetime'] - df_2016['tpep_pickup_datetime']\n",
    "df_2016['trip_time'] = df_2016['trip_time'] / np.timedelta64(1,'m')\n",
    "df_2016.head()"
   ]
  },
  {
   "cell_type": "code",
   "execution_count": 48,
   "metadata": {},
   "outputs": [],
   "source": [
    "# Add pick time as second\n",
    "df_2016['pickup_time'] = df_2016['tpep_pickup_datetime'].apply(lambda x: time.mktime(x.timetuple()))"
   ]
  },
  {
   "cell_type": "code",
   "execution_count": 49,
   "metadata": {},
   "outputs": [],
   "source": [
    "# Find Speed\n",
    "# X = V * t\n",
    "df_2016['Speed'] = (df_2016['trip_distance']/df_2016['trip_time']) * 60"
   ]
  },
  {
   "cell_type": "code",
   "execution_count": 50,
   "metadata": {},
   "outputs": [
    {
     "data": {
      "text/html": [
       "<div>\n",
       "<style scoped>\n",
       "    .dataframe tbody tr th:only-of-type {\n",
       "        vertical-align: middle;\n",
       "    }\n",
       "\n",
       "    .dataframe tbody tr th {\n",
       "        vertical-align: top;\n",
       "    }\n",
       "\n",
       "    .dataframe thead th {\n",
       "        text-align: right;\n",
       "    }\n",
       "</style>\n",
       "<table border=\"1\" class=\"dataframe\">\n",
       "  <thead>\n",
       "    <tr style=\"text-align: right;\">\n",
       "      <th></th>\n",
       "      <th>passenger_count</th>\n",
       "      <th>trip_distance</th>\n",
       "      <th>pickup_longitude</th>\n",
       "      <th>pickup_latitude</th>\n",
       "      <th>dropoff_longitude</th>\n",
       "      <th>dropoff_latitude</th>\n",
       "      <th>total_amount</th>\n",
       "      <th>trip_time</th>\n",
       "      <th>pickup_time</th>\n",
       "      <th>Speed</th>\n",
       "    </tr>\n",
       "  </thead>\n",
       "  <tbody>\n",
       "    <tr>\n",
       "      <th>0</th>\n",
       "      <td>2</td>\n",
       "      <td>1.10</td>\n",
       "      <td>-73.990372</td>\n",
       "      <td>40.734695</td>\n",
       "      <td>-73.981842</td>\n",
       "      <td>40.732407</td>\n",
       "      <td>8.8</td>\n",
       "      <td>0.0</td>\n",
       "      <td>1.451596e+09</td>\n",
       "      <td>inf</td>\n",
       "    </tr>\n",
       "    <tr>\n",
       "      <th>1</th>\n",
       "      <td>5</td>\n",
       "      <td>4.90</td>\n",
       "      <td>-73.980782</td>\n",
       "      <td>40.729912</td>\n",
       "      <td>-73.944473</td>\n",
       "      <td>40.716679</td>\n",
       "      <td>19.3</td>\n",
       "      <td>0.0</td>\n",
       "      <td>1.451596e+09</td>\n",
       "      <td>inf</td>\n",
       "    </tr>\n",
       "    <tr>\n",
       "      <th>2</th>\n",
       "      <td>1</td>\n",
       "      <td>10.54</td>\n",
       "      <td>-73.984550</td>\n",
       "      <td>40.679565</td>\n",
       "      <td>-73.950272</td>\n",
       "      <td>40.788925</td>\n",
       "      <td>34.3</td>\n",
       "      <td>0.0</td>\n",
       "      <td>1.451596e+09</td>\n",
       "      <td>inf</td>\n",
       "    </tr>\n",
       "    <tr>\n",
       "      <th>3</th>\n",
       "      <td>1</td>\n",
       "      <td>4.75</td>\n",
       "      <td>-73.993469</td>\n",
       "      <td>40.718990</td>\n",
       "      <td>-73.962242</td>\n",
       "      <td>40.657333</td>\n",
       "      <td>17.3</td>\n",
       "      <td>0.0</td>\n",
       "      <td>1.451596e+09</td>\n",
       "      <td>inf</td>\n",
       "    </tr>\n",
       "    <tr>\n",
       "      <th>4</th>\n",
       "      <td>3</td>\n",
       "      <td>1.76</td>\n",
       "      <td>-73.960625</td>\n",
       "      <td>40.781330</td>\n",
       "      <td>-73.977264</td>\n",
       "      <td>40.758514</td>\n",
       "      <td>8.8</td>\n",
       "      <td>0.0</td>\n",
       "      <td>1.451596e+09</td>\n",
       "      <td>inf</td>\n",
       "    </tr>\n",
       "  </tbody>\n",
       "</table>\n",
       "</div>"
      ],
      "text/plain": [
       "   passenger_count  trip_distance  pickup_longitude  pickup_latitude  \\\n",
       "0                2           1.10        -73.990372        40.734695   \n",
       "1                5           4.90        -73.980782        40.729912   \n",
       "2                1          10.54        -73.984550        40.679565   \n",
       "3                1           4.75        -73.993469        40.718990   \n",
       "4                3           1.76        -73.960625        40.781330   \n",
       "\n",
       "   dropoff_longitude  dropoff_latitude  total_amount  trip_time   pickup_time  \\\n",
       "0         -73.981842         40.732407           8.8        0.0  1.451596e+09   \n",
       "1         -73.944473         40.716679          19.3        0.0  1.451596e+09   \n",
       "2         -73.950272         40.788925          34.3        0.0  1.451596e+09   \n",
       "3         -73.962242         40.657333          17.3        0.0  1.451596e+09   \n",
       "4         -73.977264         40.758514           8.8        0.0  1.451596e+09   \n",
       "\n",
       "   Speed  \n",
       "0    inf  \n",
       "1    inf  \n",
       "2    inf  \n",
       "3    inf  \n",
       "4    inf  "
      ]
     },
     "execution_count": 50,
     "metadata": {},
     "output_type": "execute_result"
    }
   ],
   "source": [
    "# Choose Features\n",
    "df_2016 = df_2016[['passenger_count','trip_distance','pickup_longitude','pickup_latitude',\n",
    "         'dropoff_longitude','dropoff_latitude','total_amount','trip_time',\"pickup_time\",'Speed']]\n",
    "df_2016.head()"
   ]
  },
  {
   "cell_type": "code",
   "execution_count": 51,
   "metadata": {},
   "outputs": [
    {
     "data": {
      "text/plain": [
       "(32.60000000000001, -9.400000000000004)"
      ]
     },
     "execution_count": 51,
     "metadata": {},
     "output_type": "execute_result"
    }
   ],
   "source": [
    "RM_upper_limit_2016, RM_lower_limit_2016 = find_skewed_boundaries(df_2016, 'trip_time', 1.5)\n",
    "RM_upper_limit_2016, RM_lower_limit_2016"
   ]
  },
  {
   "cell_type": "code",
   "execution_count": 52,
   "metadata": {},
   "outputs": [
    {
     "name": "stderr",
     "output_type": "stream",
     "text": [
      "C:\\ProgramData\\Anaconda3\\lib\\site-packages\\ipykernel_launcher.py:2: UserWarning: Boolean Series key will be reindexed to match DataFrame index.\n",
      "  \n"
     ]
    }
   ],
   "source": [
    "# remove \"trip_times\" outliers\n",
    "df_2016 = df_2016[(df.trip_time > 1) & (df_2016.trip_time < RM_upper_limit)]"
   ]
  },
  {
   "cell_type": "code",
   "execution_count": 53,
   "metadata": {},
   "outputs": [
    {
     "data": {
      "text/plain": [
       "(32.23936728041332, -10.395084617522306)"
      ]
     },
     "execution_count": 53,
     "metadata": {},
     "output_type": "execute_result"
    }
   ],
   "source": [
    "Speed_upper_limit_2016, Speed_lower_limit_2016 = find_skewed_boundaries(df_2016, 'Speed', 3)\n",
    "Speed_upper_limit_2016, Speed_lower_limit_2016"
   ]
  },
  {
   "cell_type": "code",
   "execution_count": 54,
   "metadata": {},
   "outputs": [],
   "source": [
    "# remove \"trip_times\" outliers\n",
    "df_2016 = df_2016[(df_2016[\"Speed\"] > 0) & (df_2016[\"Speed\"] < Speed_upper_limit)]"
   ]
  },
  {
   "cell_type": "code",
   "execution_count": 55,
   "metadata": {},
   "outputs": [
    {
     "data": {
      "text/plain": [
       "(22.29, -18.71)"
      ]
     },
     "execution_count": 55,
     "metadata": {},
     "output_type": "execute_result"
    }
   ],
   "source": [
    "trip_distance_upper_limit_2016, trip_distance_lower_limit_2016 = find_skewed_boundaries(df_2016, 'trip_distance', 12)\n",
    "trip_distance_upper_limit_2016, trip_distance_lower_limit_2016"
   ]
  },
  {
   "cell_type": "code",
   "execution_count": 56,
   "metadata": {},
   "outputs": [],
   "source": [
    "df_2016 = df_2016[(df_2016[\"total_amount\"] > 0) & (df_2016[\"total_amount\"] < total_amount_upper_limit)]"
   ]
  },
  {
   "cell_type": "code",
   "execution_count": 57,
   "metadata": {},
   "outputs": [
    {
     "data": {
      "text/html": [
       "<div>\n",
       "<style scoped>\n",
       "    .dataframe tbody tr th:only-of-type {\n",
       "        vertical-align: middle;\n",
       "    }\n",
       "\n",
       "    .dataframe tbody tr th {\n",
       "        vertical-align: top;\n",
       "    }\n",
       "\n",
       "    .dataframe thead th {\n",
       "        text-align: right;\n",
       "    }\n",
       "</style>\n",
       "<table border=\"1\" class=\"dataframe\">\n",
       "  <thead>\n",
       "    <tr style=\"text-align: right;\">\n",
       "      <th></th>\n",
       "      <th>passenger_count</th>\n",
       "      <th>trip_distance</th>\n",
       "      <th>pickup_longitude</th>\n",
       "      <th>pickup_latitude</th>\n",
       "      <th>dropoff_longitude</th>\n",
       "      <th>dropoff_latitude</th>\n",
       "      <th>total_amount</th>\n",
       "      <th>trip_time</th>\n",
       "      <th>pickup_time</th>\n",
       "      <th>Speed</th>\n",
       "    </tr>\n",
       "  </thead>\n",
       "  <tbody>\n",
       "    <tr>\n",
       "      <th>5</th>\n",
       "      <td>2</td>\n",
       "      <td>5.52</td>\n",
       "      <td>-73.980118</td>\n",
       "      <td>40.743050</td>\n",
       "      <td>-73.913490</td>\n",
       "      <td>40.763142</td>\n",
       "      <td>20.3</td>\n",
       "      <td>18.500000</td>\n",
       "      <td>1.451596e+09</td>\n",
       "      <td>17.902703</td>\n",
       "    </tr>\n",
       "    <tr>\n",
       "      <th>6</th>\n",
       "      <td>2</td>\n",
       "      <td>7.45</td>\n",
       "      <td>-73.994057</td>\n",
       "      <td>40.719990</td>\n",
       "      <td>-73.966362</td>\n",
       "      <td>40.789871</td>\n",
       "      <td>27.3</td>\n",
       "      <td>26.750000</td>\n",
       "      <td>1.451596e+09</td>\n",
       "      <td>16.710280</td>\n",
       "    </tr>\n",
       "    <tr>\n",
       "      <th>7</th>\n",
       "      <td>1</td>\n",
       "      <td>1.20</td>\n",
       "      <td>-73.979424</td>\n",
       "      <td>40.744614</td>\n",
       "      <td>-73.992035</td>\n",
       "      <td>40.753944</td>\n",
       "      <td>10.3</td>\n",
       "      <td>11.900000</td>\n",
       "      <td>1.451596e+09</td>\n",
       "      <td>6.050420</td>\n",
       "    </tr>\n",
       "    <tr>\n",
       "      <th>9</th>\n",
       "      <td>1</td>\n",
       "      <td>3.21</td>\n",
       "      <td>-73.998344</td>\n",
       "      <td>40.723896</td>\n",
       "      <td>-73.995850</td>\n",
       "      <td>40.688400</td>\n",
       "      <td>12.8</td>\n",
       "      <td>11.100000</td>\n",
       "      <td>1.451596e+09</td>\n",
       "      <td>17.351351</td>\n",
       "    </tr>\n",
       "    <tr>\n",
       "      <th>10</th>\n",
       "      <td>1</td>\n",
       "      <td>0.79</td>\n",
       "      <td>-74.006149</td>\n",
       "      <td>40.744919</td>\n",
       "      <td>-73.993797</td>\n",
       "      <td>40.741440</td>\n",
       "      <td>7.3</td>\n",
       "      <td>6.266667</td>\n",
       "      <td>1.451596e+09</td>\n",
       "      <td>7.563830</td>\n",
       "    </tr>\n",
       "  </tbody>\n",
       "</table>\n",
       "</div>"
      ],
      "text/plain": [
       "    passenger_count  trip_distance  pickup_longitude  pickup_latitude  \\\n",
       "5                 2           5.52        -73.980118        40.743050   \n",
       "6                 2           7.45        -73.994057        40.719990   \n",
       "7                 1           1.20        -73.979424        40.744614   \n",
       "9                 1           3.21        -73.998344        40.723896   \n",
       "10                1           0.79        -74.006149        40.744919   \n",
       "\n",
       "    dropoff_longitude  dropoff_latitude  total_amount  trip_time  \\\n",
       "5          -73.913490         40.763142          20.3  18.500000   \n",
       "6          -73.966362         40.789871          27.3  26.750000   \n",
       "7          -73.992035         40.753944          10.3  11.900000   \n",
       "9          -73.995850         40.688400          12.8  11.100000   \n",
       "10         -73.993797         40.741440           7.3   6.266667   \n",
       "\n",
       "     pickup_time      Speed  \n",
       "5   1.451596e+09  17.902703  \n",
       "6   1.451596e+09  16.710280  \n",
       "7   1.451596e+09   6.050420  \n",
       "9   1.451596e+09  17.351351  \n",
       "10  1.451596e+09   7.563830  "
      ]
     },
     "execution_count": 57,
     "metadata": {},
     "output_type": "execute_result"
    }
   ],
   "source": [
    "df_2016.head()"
   ]
  },
  {
   "cell_type": "code",
   "execution_count": 58,
   "metadata": {},
   "outputs": [
    {
     "data": {
      "text/html": [
       "<div>\n",
       "<style scoped>\n",
       "    .dataframe tbody tr th:only-of-type {\n",
       "        vertical-align: middle;\n",
       "    }\n",
       "\n",
       "    .dataframe tbody tr th {\n",
       "        vertical-align: top;\n",
       "    }\n",
       "\n",
       "    .dataframe thead th {\n",
       "        text-align: right;\n",
       "    }\n",
       "</style>\n",
       "<table border=\"1\" class=\"dataframe\">\n",
       "  <thead>\n",
       "    <tr style=\"text-align: right;\">\n",
       "      <th></th>\n",
       "      <th>passenger_count</th>\n",
       "      <th>trip_distance</th>\n",
       "      <th>pickup_longitude</th>\n",
       "      <th>pickup_latitude</th>\n",
       "      <th>dropoff_longitude</th>\n",
       "      <th>dropoff_latitude</th>\n",
       "      <th>total_amount</th>\n",
       "      <th>trip_time</th>\n",
       "      <th>pickup_time</th>\n",
       "      <th>Speed</th>\n",
       "      <th>pickup_cluster</th>\n",
       "    </tr>\n",
       "  </thead>\n",
       "  <tbody>\n",
       "    <tr>\n",
       "      <th>5</th>\n",
       "      <td>2</td>\n",
       "      <td>5.52</td>\n",
       "      <td>-73.980118</td>\n",
       "      <td>40.743050</td>\n",
       "      <td>-73.913490</td>\n",
       "      <td>40.763142</td>\n",
       "      <td>20.3</td>\n",
       "      <td>18.500000</td>\n",
       "      <td>1.451596e+09</td>\n",
       "      <td>17.902703</td>\n",
       "      <td>19</td>\n",
       "    </tr>\n",
       "    <tr>\n",
       "      <th>6</th>\n",
       "      <td>2</td>\n",
       "      <td>7.45</td>\n",
       "      <td>-73.994057</td>\n",
       "      <td>40.719990</td>\n",
       "      <td>-73.966362</td>\n",
       "      <td>40.789871</td>\n",
       "      <td>27.3</td>\n",
       "      <td>26.750000</td>\n",
       "      <td>1.451596e+09</td>\n",
       "      <td>16.710280</td>\n",
       "      <td>7</td>\n",
       "    </tr>\n",
       "    <tr>\n",
       "      <th>7</th>\n",
       "      <td>1</td>\n",
       "      <td>1.20</td>\n",
       "      <td>-73.979424</td>\n",
       "      <td>40.744614</td>\n",
       "      <td>-73.992035</td>\n",
       "      <td>40.753944</td>\n",
       "      <td>10.3</td>\n",
       "      <td>11.900000</td>\n",
       "      <td>1.451596e+09</td>\n",
       "      <td>6.050420</td>\n",
       "      <td>4</td>\n",
       "    </tr>\n",
       "    <tr>\n",
       "      <th>9</th>\n",
       "      <td>1</td>\n",
       "      <td>3.21</td>\n",
       "      <td>-73.998344</td>\n",
       "      <td>40.723896</td>\n",
       "      <td>-73.995850</td>\n",
       "      <td>40.688400</td>\n",
       "      <td>12.8</td>\n",
       "      <td>11.100000</td>\n",
       "      <td>1.451596e+09</td>\n",
       "      <td>17.351351</td>\n",
       "      <td>15</td>\n",
       "    </tr>\n",
       "    <tr>\n",
       "      <th>10</th>\n",
       "      <td>1</td>\n",
       "      <td>0.79</td>\n",
       "      <td>-74.006149</td>\n",
       "      <td>40.744919</td>\n",
       "      <td>-73.993797</td>\n",
       "      <td>40.741440</td>\n",
       "      <td>7.3</td>\n",
       "      <td>6.266667</td>\n",
       "      <td>1.451596e+09</td>\n",
       "      <td>7.563830</td>\n",
       "      <td>13</td>\n",
       "    </tr>\n",
       "  </tbody>\n",
       "</table>\n",
       "</div>"
      ],
      "text/plain": [
       "    passenger_count  trip_distance  pickup_longitude  pickup_latitude  \\\n",
       "5                 2           5.52        -73.980118        40.743050   \n",
       "6                 2           7.45        -73.994057        40.719990   \n",
       "7                 1           1.20        -73.979424        40.744614   \n",
       "9                 1           3.21        -73.998344        40.723896   \n",
       "10                1           0.79        -74.006149        40.744919   \n",
       "\n",
       "    dropoff_longitude  dropoff_latitude  total_amount  trip_time  \\\n",
       "5          -73.913490         40.763142          20.3  18.500000   \n",
       "6          -73.966362         40.789871          27.3  26.750000   \n",
       "7          -73.992035         40.753944          10.3  11.900000   \n",
       "9          -73.995850         40.688400          12.8  11.100000   \n",
       "10         -73.993797         40.741440           7.3   6.266667   \n",
       "\n",
       "     pickup_time      Speed  pickup_cluster  \n",
       "5   1.451596e+09  17.902703              19  \n",
       "6   1.451596e+09  16.710280               7  \n",
       "7   1.451596e+09   6.050420               4  \n",
       "9   1.451596e+09  17.351351              15  \n",
       "10  1.451596e+09   7.563830              13  "
      ]
     },
     "execution_count": 58,
     "metadata": {},
     "output_type": "execute_result"
    }
   ],
   "source": [
    "df_2016[\"pickup_cluster\"] = minikmeans.predict(df_2016[[\"pickup_latitude\", \"pickup_longitude\"]])\n",
    "df_2016.head()"
   ]
  },
  {
   "cell_type": "code",
   "execution_count": 60,
   "metadata": {},
   "outputs": [
    {
     "data": {
      "text/html": [
       "<div>\n",
       "<style scoped>\n",
       "    .dataframe tbody tr th:only-of-type {\n",
       "        vertical-align: middle;\n",
       "    }\n",
       "\n",
       "    .dataframe tbody tr th {\n",
       "        vertical-align: top;\n",
       "    }\n",
       "\n",
       "    .dataframe thead th {\n",
       "        text-align: right;\n",
       "    }\n",
       "</style>\n",
       "<table border=\"1\" class=\"dataframe\">\n",
       "  <thead>\n",
       "    <tr style=\"text-align: right;\">\n",
       "      <th></th>\n",
       "      <th>passenger_count</th>\n",
       "      <th>trip_distance</th>\n",
       "      <th>pickup_longitude</th>\n",
       "      <th>pickup_latitude</th>\n",
       "      <th>dropoff_longitude</th>\n",
       "      <th>dropoff_latitude</th>\n",
       "      <th>total_amount</th>\n",
       "      <th>trip_time</th>\n",
       "      <th>pickup_time</th>\n",
       "      <th>Speed</th>\n",
       "      <th>pickup_cluster</th>\n",
       "      <th>time_bin</th>\n",
       "    </tr>\n",
       "  </thead>\n",
       "  <tbody>\n",
       "    <tr>\n",
       "      <th>5</th>\n",
       "      <td>2</td>\n",
       "      <td>5.52</td>\n",
       "      <td>-73.980118</td>\n",
       "      <td>40.743050</td>\n",
       "      <td>-73.913490</td>\n",
       "      <td>40.763142</td>\n",
       "      <td>20.3</td>\n",
       "      <td>18.500000</td>\n",
       "      <td>1.451596e+09</td>\n",
       "      <td>17.902703</td>\n",
       "      <td>19</td>\n",
       "      <td>-18</td>\n",
       "    </tr>\n",
       "    <tr>\n",
       "      <th>6</th>\n",
       "      <td>2</td>\n",
       "      <td>7.45</td>\n",
       "      <td>-73.994057</td>\n",
       "      <td>40.719990</td>\n",
       "      <td>-73.966362</td>\n",
       "      <td>40.789871</td>\n",
       "      <td>27.3</td>\n",
       "      <td>26.750000</td>\n",
       "      <td>1.451596e+09</td>\n",
       "      <td>16.710280</td>\n",
       "      <td>7</td>\n",
       "      <td>-18</td>\n",
       "    </tr>\n",
       "    <tr>\n",
       "      <th>7</th>\n",
       "      <td>1</td>\n",
       "      <td>1.20</td>\n",
       "      <td>-73.979424</td>\n",
       "      <td>40.744614</td>\n",
       "      <td>-73.992035</td>\n",
       "      <td>40.753944</td>\n",
       "      <td>10.3</td>\n",
       "      <td>11.900000</td>\n",
       "      <td>1.451596e+09</td>\n",
       "      <td>6.050420</td>\n",
       "      <td>4</td>\n",
       "      <td>-17</td>\n",
       "    </tr>\n",
       "    <tr>\n",
       "      <th>9</th>\n",
       "      <td>1</td>\n",
       "      <td>3.21</td>\n",
       "      <td>-73.998344</td>\n",
       "      <td>40.723896</td>\n",
       "      <td>-73.995850</td>\n",
       "      <td>40.688400</td>\n",
       "      <td>12.8</td>\n",
       "      <td>11.100000</td>\n",
       "      <td>1.451596e+09</td>\n",
       "      <td>17.351351</td>\n",
       "      <td>15</td>\n",
       "      <td>-17</td>\n",
       "    </tr>\n",
       "    <tr>\n",
       "      <th>10</th>\n",
       "      <td>1</td>\n",
       "      <td>0.79</td>\n",
       "      <td>-74.006149</td>\n",
       "      <td>40.744919</td>\n",
       "      <td>-73.993797</td>\n",
       "      <td>40.741440</td>\n",
       "      <td>7.3</td>\n",
       "      <td>6.266667</td>\n",
       "      <td>1.451596e+09</td>\n",
       "      <td>7.563830</td>\n",
       "      <td>13</td>\n",
       "      <td>-17</td>\n",
       "    </tr>\n",
       "  </tbody>\n",
       "</table>\n",
       "</div>"
      ],
      "text/plain": [
       "    passenger_count  trip_distance  pickup_longitude  pickup_latitude  \\\n",
       "5                 2           5.52        -73.980118        40.743050   \n",
       "6                 2           7.45        -73.994057        40.719990   \n",
       "7                 1           1.20        -73.979424        40.744614   \n",
       "9                 1           3.21        -73.998344        40.723896   \n",
       "10                1           0.79        -74.006149        40.744919   \n",
       "\n",
       "    dropoff_longitude  dropoff_latitude  total_amount  trip_time  \\\n",
       "5          -73.913490         40.763142          20.3  18.500000   \n",
       "6          -73.966362         40.789871          27.3  26.750000   \n",
       "7          -73.992035         40.753944          10.3  11.900000   \n",
       "9          -73.995850         40.688400          12.8  11.100000   \n",
       "10         -73.993797         40.741440           7.3   6.266667   \n",
       "\n",
       "     pickup_time      Speed  pickup_cluster  time_bin  \n",
       "5   1.451596e+09  17.902703              19       -18  \n",
       "6   1.451596e+09  16.710280               7       -18  \n",
       "7   1.451596e+09   6.050420               4       -17  \n",
       "9   1.451596e+09  17.351351              15       -17  \n",
       "10  1.451596e+09   7.563830              13       -17  "
      ]
     },
     "execution_count": 60,
     "metadata": {},
     "output_type": "execute_result"
    }
   ],
   "source": [
    "df_2016 = pickup_10min_bins(df_2016, 1, 2016)\n",
    "df_2016.head()"
   ]
  },
  {
   "cell_type": "code",
   "execution_count": 62,
   "metadata": {},
   "outputs": [],
   "source": [
    "df_2016 = df_2016[df_2016[\"time_bin\"]>=0]"
   ]
  },
  {
   "cell_type": "code",
   "execution_count": 63,
   "metadata": {},
   "outputs": [
    {
     "data": {
      "text/html": [
       "<div>\n",
       "<style scoped>\n",
       "    .dataframe tbody tr th:only-of-type {\n",
       "        vertical-align: middle;\n",
       "    }\n",
       "\n",
       "    .dataframe tbody tr th {\n",
       "        vertical-align: top;\n",
       "    }\n",
       "\n",
       "    .dataframe thead th {\n",
       "        text-align: right;\n",
       "    }\n",
       "</style>\n",
       "<table border=\"1\" class=\"dataframe\">\n",
       "  <thead>\n",
       "    <tr style=\"text-align: right;\">\n",
       "      <th></th>\n",
       "      <th></th>\n",
       "      <th>trip_distance</th>\n",
       "    </tr>\n",
       "    <tr>\n",
       "      <th>pickup_cluster</th>\n",
       "      <th>time_bin</th>\n",
       "      <th></th>\n",
       "    </tr>\n",
       "  </thead>\n",
       "  <tbody>\n",
       "    <tr>\n",
       "      <th rowspan=\"5\" valign=\"top\">0</th>\n",
       "      <th>0</th>\n",
       "      <td>230</td>\n",
       "    </tr>\n",
       "    <tr>\n",
       "      <th>1</th>\n",
       "      <td>98</td>\n",
       "    </tr>\n",
       "    <tr>\n",
       "      <th>2</th>\n",
       "      <td>94</td>\n",
       "    </tr>\n",
       "    <tr>\n",
       "      <th>3</th>\n",
       "      <td>84</td>\n",
       "    </tr>\n",
       "    <tr>\n",
       "      <th>4</th>\n",
       "      <td>66</td>\n",
       "    </tr>\n",
       "  </tbody>\n",
       "</table>\n",
       "</div>"
      ],
      "text/plain": [
       "                         trip_distance\n",
       "pickup_cluster time_bin               \n",
       "0              0                   230\n",
       "               1                    98\n",
       "               2                    94\n",
       "               3                    84\n",
       "               4                    66"
      ]
     },
     "execution_count": 63,
     "metadata": {},
     "output_type": "execute_result"
    }
   ],
   "source": [
    "df_groupby_2016 = df_2016[[\"pickup_cluster\", \"time_bin\", \"trip_distance\"]].groupby([\"pickup_cluster\", \"time_bin\"]).count()\n",
    "df_groupby_2016.head()"
   ]
  },
  {
   "cell_type": "markdown",
   "metadata": {},
   "source": [
    "## Smoothing"
   ]
  },
  {
   "cell_type": "code",
   "execution_count": 64,
   "metadata": {},
   "outputs": [],
   "source": [
    "# Gets the unique time bins where pickup values are present for each region.\n",
    "\n",
    "# for each cluster region we will collect all the indices of 10min intervals in which pickups happened.\n",
    "# we got an observation that there are some time bins that doesn't have any pickups.\n",
    "\n",
    "def getUniqueBinsWithPickups(dataframe):\n",
    "    values = []\n",
    "    for i in range(30):          #we have total 30 clusters\n",
    "        cluster_id = dataframe[dataframe[\"pickup_cluster\"] == i]\n",
    "        unique_clus_id = list(set(cluster_id[\"time_bin\"]))\n",
    "        unique_clus_id.sort()   #inplace sorting\n",
    "        values.append(unique_clus_id)\n",
    "    return values\n",
    "#this function is returning the indices of all the unique time_bins where there is a pickup for all the 30 clusters."
   ]
  },
  {
   "cell_type": "code",
   "execution_count": 65,
   "metadata": {},
   "outputs": [
    {
     "name": "stdout",
     "output_type": "stream",
     "text": [
      "For cluster ID 0, total number of time bins with no pickup in this clutser region is 54\n",
      "------------------------------------------------------------------------------------------\n",
      "For cluster ID 1, total number of time bins with no pickup in this clutser region is 56\n",
      "------------------------------------------------------------------------------------------\n",
      "For cluster ID 2, total number of time bins with no pickup in this clutser region is 360\n",
      "------------------------------------------------------------------------------------------\n",
      "For cluster ID 3, total number of time bins with no pickup in this clutser region is 68\n",
      "------------------------------------------------------------------------------------------\n",
      "For cluster ID 4, total number of time bins with no pickup in this clutser region is 49\n",
      "------------------------------------------------------------------------------------------\n",
      "For cluster ID 5, total number of time bins with no pickup in this clutser region is 76\n",
      "------------------------------------------------------------------------------------------\n",
      "For cluster ID 6, total number of time bins with no pickup in this clutser region is 55\n",
      "------------------------------------------------------------------------------------------\n",
      "For cluster ID 7, total number of time bins with no pickup in this clutser region is 45\n",
      "------------------------------------------------------------------------------------------\n",
      "For cluster ID 8, total number of time bins with no pickup in this clutser region is 375\n",
      "------------------------------------------------------------------------------------------\n",
      "For cluster ID 9, total number of time bins with no pickup in this clutser region is 48\n",
      "------------------------------------------------------------------------------------------\n",
      "For cluster ID 10, total number of time bins with no pickup in this clutser region is 45\n",
      "------------------------------------------------------------------------------------------\n",
      "For cluster ID 11, total number of time bins with no pickup in this clutser region is 49\n",
      "------------------------------------------------------------------------------------------\n",
      "For cluster ID 12, total number of time bins with no pickup in this clutser region is 57\n",
      "------------------------------------------------------------------------------------------\n",
      "For cluster ID 13, total number of time bins with no pickup in this clutser region is 59\n",
      "------------------------------------------------------------------------------------------\n",
      "For cluster ID 14, total number of time bins with no pickup in this clutser region is 43\n",
      "------------------------------------------------------------------------------------------\n",
      "For cluster ID 15, total number of time bins with no pickup in this clutser region is 55\n",
      "------------------------------------------------------------------------------------------\n",
      "For cluster ID 16, total number of time bins with no pickup in this clutser region is 50\n",
      "------------------------------------------------------------------------------------------\n",
      "For cluster ID 17, total number of time bins with no pickup in this clutser region is 137\n",
      "------------------------------------------------------------------------------------------\n",
      "For cluster ID 18, total number of time bins with no pickup in this clutser region is 54\n",
      "------------------------------------------------------------------------------------------\n",
      "For cluster ID 19, total number of time bins with no pickup in this clutser region is 47\n",
      "------------------------------------------------------------------------------------------\n",
      "For cluster ID 20, total number of time bins with no pickup in this clutser region is 40\n",
      "------------------------------------------------------------------------------------------\n",
      "For cluster ID 21, total number of time bins with no pickup in this clutser region is 51\n",
      "------------------------------------------------------------------------------------------\n",
      "For cluster ID 22, total number of time bins with no pickup in this clutser region is 767\n",
      "------------------------------------------------------------------------------------------\n",
      "For cluster ID 23, total number of time bins with no pickup in this clutser region is 80\n",
      "------------------------------------------------------------------------------------------\n",
      "For cluster ID 24, total number of time bins with no pickup in this clutser region is 45\n",
      "------------------------------------------------------------------------------------------\n",
      "For cluster ID 25, total number of time bins with no pickup in this clutser region is 53\n",
      "------------------------------------------------------------------------------------------\n",
      "For cluster ID 26, total number of time bins with no pickup in this clutser region is 48\n",
      "------------------------------------------------------------------------------------------\n",
      "For cluster ID 27, total number of time bins with no pickup in this clutser region is 939\n",
      "------------------------------------------------------------------------------------------\n",
      "For cluster ID 28, total number of time bins with no pickup in this clutser region is 66\n",
      "------------------------------------------------------------------------------------------\n",
      "For cluster ID 29, total number of time bins with no pickup in this clutser region is 58\n",
      "------------------------------------------------------------------------------------------\n"
     ]
    }
   ],
   "source": [
    "#now for Jan-2015, we have to find out, how many time_bins are there where there is no pickup in any of the cluster region\n",
    "unique_binswithPickup_Jan_2015 = getUniqueBinsWithPickups(df)\n",
    "for i in range(30):             #we have total 30 clusters\n",
    "    print(\"For cluster ID {}, total number of time bins with no pickup in this clutser region is {}\".format(i, (4464 - len(unique_binswithPickup_Jan_2015[i]))))\n",
    "    print(\"-\"*90)\n",
    "#there are total 4464 time bins in Jan - 2015.\n",
    "#\"unique_binswithPickup_Jan_2015\" contains all the unique time bins, where pickup happened. It contains 30 sub-arrays as there are 30 clusters\n",
    "#and each sub-array contains the unique ID of all the time bins where pickup happened in the clusters which is the index of that sub-array."
   ]
  },
  {
   "cell_type": "markdown",
   "metadata": {},
   "source": [
    "There are two ways to fill up these values:\n",
    "\n",
    "Fill the missing value with 0's."
   ]
  },
  {
   "cell_type": "code",
   "execution_count": 69,
   "metadata": {},
   "outputs": [
    {
     "data": {
      "text/plain": [
       "4445"
      ]
     },
     "execution_count": 69,
     "metadata": {},
     "output_type": "execute_result"
    }
   ],
   "source": [
    "len(df[\"time_bin\"].value_counts())"
   ]
  },
  {
   "cell_type": "code",
   "execution_count": 70,
   "metadata": {},
   "outputs": [],
   "source": [
    "# Fill the missing value with 0's.\n",
    "def fillMissingWithZero(numberOfPickups, correspondingTimeBin):\n",
    "    ind = 0\n",
    "    smoothed_regions = []\n",
    "    for c in range(0, 30):\n",
    "        smoothed_bins = []\n",
    "        for t in range(4445):    #there are total 4445 time bins in both Jan-2015 & Feb-2016.\n",
    "            if t in correspondingTimeBin[c]:   #if a time bin is present in \"correspondingTimeBin\" in cluster 'c', \n",
    "            #then it means there is a pickup, in this case, we are simply adding number of pickups, else we are adding 0.\n",
    "                smoothed_bins.append(numberOfPickups[ind])\n",
    "                ind += 1\n",
    "            else:\n",
    "                smoothed_bins.append(0)\n",
    "        smoothed_regions.extend(smoothed_bins)\n",
    "    return smoothed_regions\n",
    "#above function performs the operation in this way: if in any cluster if there is no pickup in any of the 4445 time bins, then \n",
    "#it simply appends 0 in that missing time_bin else it adds the original number of pickups in that time_bins."
   ]
  },
  {
   "cell_type": "markdown",
   "metadata": {},
   "source": [
    "Fill the missing values with the avg values.\n",
    "\n",
    "* Case 1:(values missing at the start)\n",
    "  * Ex1: x =>ceil(x/4), ceil(x/4), ceil(x/4), ceil(x/4)\n",
    "  * Ex2: _ x => ceil(x/3), ceil(x/3), ceil(x/3)\n",
    "\n",
    "* Case 2:(values missing in middle)\n",
    "  * Ex1: x y => ceil((x+y)/4), ceil((x+y)/4), ceil((x+y)/4), ceil((x+y)/4)\n",
    "  * Ex2: x _ y => ceil((x+y)/5), ceil((x+y)/5), ceil((x+y)/5), ceil((x+y)/5), ceil((x+y)/5)\n",
    "\n",
    "* Case 3:(values missing at the end)\n",
    "  * Ex1: x => ceil(x/4), ceil(x/4), ceil(x/4), ceil(x/4)\n",
    "  * Ex2: x => ceil(x/2), ceil(x/2)"
   ]
  },
  {
   "cell_type": "code",
   "execution_count": 71,
   "metadata": {},
   "outputs": [],
   "source": [
    "def smoothing(numberOfPickups, correspondingTimeBin):\n",
    "    ind = 0\n",
    "    repeat = 0\n",
    "    smoothed_region = []\n",
    "    for cluster in range(0, 30):\n",
    "        smoothed_bin = []\n",
    "        for t1 in range(4445):\n",
    "            if repeat != 0:   #this will ensure that we shall not fill the pickup values again which we already filled by smoothing\n",
    "                repeat -= 1\n",
    "            else:\n",
    "                if t1 in correspondingTimeBin[cluster]:\n",
    "                    smoothed_bin.append(numberOfPickups[ind])\n",
    "                    ind += 1\n",
    "                else:\n",
    "                    if t1 == 0:           \n",
    "    #<---------------------CASE-1:Pickups missing in the beginning------------------------>\n",
    "                        for t2 in range(t1, 4445):\n",
    "                            if t2 not in correspondingTimeBin[cluster]:\n",
    "                                continue\n",
    "                            else:\n",
    "                                right_hand_limit = t2\n",
    "                                smoothed_value = (numberOfPickups[ind]*1.0)/((right_hand_limit + 1)*1.0)\n",
    "                                for i in range(right_hand_limit + 1):\n",
    "                                    smoothed_bin.append(math.ceil(smoothed_value))\n",
    "                                ind += 1\n",
    "                                repeat = right_hand_limit - t1\n",
    "                                \n",
    "                    if t1 != 0:\n",
    "                        right_hand_limit = 0\n",
    "                        for t2 in range(t1, 4445):\n",
    "                            if t2 not in correspondingTimeBin[cluster]:\n",
    "                                continue\n",
    "                            else:\n",
    "                                right_hand_limit = t2\n",
    "                                break\n",
    "                        if right_hand_limit == 0:\n",
    "    #<---------------------CASE-2: Pickups MISSING IN THE END------------------------------>\n",
    "                            smoothed_value = (numberOfPickups[ind-1]*1.0)/(((4445 - t1)+1)*1.0)\n",
    "                            del smoothed_bin[-1]\n",
    "                            for i in range((4445 - t1)+1):\n",
    "                                smoothed_bin.append(math.ceil(smoothed_value))\n",
    "                            repeat = (4445 - t1) - 1    \n",
    "    #<---------------------CASE-3: Pickups MISSING IN MIDDLE OF TWO VALUES----------------> \n",
    "                        else: \n",
    "                            smoothed_value = ((numberOfPickups[ind-1] + numberOfPickups[ind])*1.0)/(((right_hand_limit - t1)+2)*1.0)\n",
    "                            del smoothed_bin[-1]\n",
    "                            for i in range((right_hand_limit - t1)+2):\n",
    "                                smoothed_bin.append(math.ceil(smoothed_value))\n",
    "                            ind += 1\n",
    "                            repeat = right_hand_limit - t1                        \n",
    "        smoothed_region.extend(smoothed_bin)\n",
    "    return smoothed_region\n",
    "\n",
    "# when we multiply any integer with \"1.0\", then it will be converted into float."
   ]
  },
  {
   "cell_type": "code",
   "execution_count": 73,
   "metadata": {},
   "outputs": [],
   "source": [
    "import math"
   ]
  },
  {
   "cell_type": "code",
   "execution_count": 74,
   "metadata": {},
   "outputs": [],
   "source": [
    "jan_2015_fillZero = fillMissingWithZero(df_groupby[\"trip_distance\"].values, unique_binswithPickup_Jan_2015)\n",
    "# here in jan_2015_timeBin_groupBy dataframe the \"trip_distance\" represents the number of pickups that are happened.\n",
    "jan_2015_fillSmooth = smoothing(df_groupby[\"trip_distance\"].values, unique_binswithPickup_Jan_2015)\n",
    "\n",
    "#\"unique_binswithPickup_Jan_2015\" contains all the unique time bins, where pickup happened. It contains 30 sub-arrays as there are 30 clusters\n",
    "#and each sub-array contains the unique ID of all the time bins where pickup happened in the clusters which is the index of that sub-array."
   ]
  },
  {
   "cell_type": "markdown",
   "metadata": {},
   "source": [
    "* There are total 30 clusters. Each cluster has 4445 time bins. After smoothing or fillWithZero, each of 4445 time bin has a pickup. So, there should be a total of 4445*30 = 133350 pickup values present for the month of January 2015. Let's Check, is it correct?"
   ]
  },
  {
   "cell_type": "code",
   "execution_count": 75,
   "metadata": {},
   "outputs": [
    {
     "name": "stdout",
     "output_type": "stream",
     "text": [
      "number of 10min intravels among all the clusters  133350\n"
     ]
    }
   ],
   "source": [
    "print(\"number of 10min intravels among all the clusters \",len(jan_2015_fillZero))"
   ]
  },
  {
   "cell_type": "markdown",
   "metadata": {},
   "source": [
    "* So we use smoothing for jan 2015th data since it acts as our training data and we use simple fill_misssing method for Jan 2016 data."
   ]
  },
  {
   "cell_type": "code",
   "execution_count": 78,
   "metadata": {},
   "outputs": [
    {
     "data": {
      "text/plain": [
       "4434"
      ]
     },
     "execution_count": 78,
     "metadata": {},
     "output_type": "execute_result"
    }
   ],
   "source": [
    "len(df_2016[\"time_bin\"].value_counts())"
   ]
  },
  {
   "cell_type": "code",
   "execution_count": 76,
   "metadata": {},
   "outputs": [],
   "source": [
    "unique_binswithPickup_Jan_2016 = getUniqueBinsWithPickups(df_2016)"
   ]
  },
  {
   "cell_type": "code",
   "execution_count": 77,
   "metadata": {},
   "outputs": [],
   "source": [
    "# Jan-2015 data is smoothed, Jan-2016 data missing values are filled with zero\n",
    "jan_2016_fillZero = fillMissingWithZero(df_groupby_2016[\"trip_distance\"].values, unique_binswithPickup_Jan_2016)"
   ]
  },
  {
   "cell_type": "code",
   "execution_count": 79,
   "metadata": {},
   "outputs": [],
   "source": [
    "regionWisePickup_Jan_2016 = []\n",
    "for i in range(30):\n",
    "    regionWisePickup_Jan_2016.append(jan_2016_fillZero[4434*i:((4434*i)+4434)])\n",
    "#\"regionWisePickup_Jan_2016\" is a list of lists which contains 30 sub lists, where the index of each sub-list is the \n",
    "#corresponding cluster number and the element of each sub-list is the pickup value. So, we know that there are 4434 time bins \n",
    "#in Jan 2016, hence, each sub-list is of size 4434."
   ]
  },
  {
   "cell_type": "code",
   "execution_count": 80,
   "metadata": {},
   "outputs": [
    {
     "name": "stdout",
     "output_type": "stream",
     "text": [
      "30\n",
      "4434\n"
     ]
    }
   ],
   "source": [
    "print(len(regionWisePickup_Jan_2016))\n",
    "print(len(regionWisePickup_Jan_2016[0]))"
   ]
  },
  {
   "cell_type": "markdown",
   "metadata": {},
   "source": [
    "## Regression Models"
   ]
  },
  {
   "cell_type": "code",
   "execution_count": 83,
   "metadata": {},
   "outputs": [],
   "source": [
    "#\"regionWisePickup_Jan_2016\" is a list of lists which contains 30 sub lists, where the index of each sub-list is the \n",
    "#corresponding cluster number and the element of each sub-list is the pickup value. So, we know that there are 4464 time bins \n",
    "#in Jan 2016, hence, each sub-list is of size 4464.\n",
    "#\"regionWisePickup_Jan_2016\" is a list of lists [[x1,x2,x3..4464], [x1,x2,x3..4464], [x1,x2,x3..4464], [x1,x2,x3..4464], [x1,x2,x3..4464], .. 30 lists]\n",
    "#Here, x1,x2,x3... are pickup values at time stamp 1,2,3... respectively\n",
    "\n",
    "# print(len(regionWisePickup_Jan_2016))\n",
    "# 30\n",
    "# print(len(regionWisePickup_Jan_2016[0]))\n",
    "# 4464\n",
    "\n",
    "# we take number of pickups that are happened in last 5 10min intravels\n",
    "number_of_time_stamps = 5\n",
    "\n",
    "# TruePickups varaible\n",
    "# it is list of lists\n",
    "# It will be used as true labels/ground truth. Now since we are taking previous 5 pickups as a training data for predicting\n",
    "# next pickup(here next pickup will be a true/ground truth pickup), so \"TruePickups\" will not contain first five pickups of each \n",
    "# cluster. It will contain number of pickups 4459 for each cluster. \n",
    "TruePickups = []\n",
    "\n",
    "\n",
    "# lat will contain 4464-5=4459 times latitude of cluster center for every cluster.\n",
    "# Ex: [[cent_lat 4459 times],[cent_lat 4459 times], [cent_lat 4459 times].... 30 lists]\n",
    "# it is list of lists\n",
    "lat = []\n",
    "\n",
    "\n",
    "# lon will contain 4464-5=4459 times longitude of cluster center for every cluster.\n",
    "# Ex: [[cent_lat 4459 times],[cent_lat 4459 times], [cent_lat 4459 times].... 30 lists]\n",
    "# it is list of lists\n",
    "lon = []\n",
    "\n",
    "# we will code each day \n",
    "# sunday = 0, monday=1, tue = 2, wed=3, thur=4, fri=5,sat=6\n",
    "day_of_week = []\n",
    "\n",
    "\n",
    "# for every cluster we will be adding 4459 values, each value represent to which day of the week that pickup bin belongs to\n",
    "# it is list of lists\n",
    "\n",
    "# feat is a numbpy array, of shape (133770, 5). {4459*30 = 133770.}\n",
    "# each row corresponds to an entry in our data\n",
    "# for the first row we will have [f0,f1,f2,f3,f4] fi=number of pickups happened in i+1st 10min intravel(bin)\n",
    "# the second row will have [f1,f2,f3,f4,f5]\n",
    "# the third row will have [f2,f3,f4,f5,f6]\n",
    "# and so on...\n",
    "feat = []\n",
    "\n",
    "\n",
    "centerOfRegions = minikmeans.cluster_centers_\n",
    "feat = [0]*number_of_time_stamps\n",
    "for i in range(30):\n",
    "    lat.append([centerOfRegions[i][0]]*4429) \n",
    "    lon.append([centerOfRegions[i][1]]*4429)\n",
    "    #1 January 2016 is a Friday so we start our day from 5: \"(int(j/144))%7+5\"\n",
    "    # Our prediction starts from 5th 10min interval since we need to have number of pickups that are happened in last 5 pickup bins.\n",
    "    day_of_week.append([int(((int(j/144)%7)+5)%7) for j in range(5, 4434)])\n",
    "    #\"regionWisePickup_Jan_2016\" is a list of lists which contains 30 sub lists, where the index of each sub-list is the \n",
    "    #corresponding cluster number and the element of each sub-list is the pickup value. So, we know that there are 4464 time bins \n",
    "    #in Jan 2016, hence, each sub-list is of size 4464.\n",
    "    #\"regionWisePickup_Jan_2016\" is a list of lists [[x1,x2,x3..4464], [x1,x2,x3..4464], [x1,x2,x3..4464], [x1,x2,x3..4464], [x1,x2,x3..4464], .. 30 lists]\n",
    "    #Here, x1,x2,x3... are pickup values at time stamp 1,2,3... respectively\n",
    "    feat = np.vstack((feat, [regionWisePickup_Jan_2016[i][k:k+number_of_time_stamps] for k in range(0, len(regionWisePickup_Jan_2016[i]) - (number_of_time_stamps))]))\n",
    "    TruePickups.append(regionWisePickup_Jan_2016[i][5:])\n",
    "    #output contains pickup values of all the regions and of each time stamp, except first 5 time stamp pickups of each region.\n",
    "feat = feat[1:]"
   ]
  },
  {
   "cell_type": "code",
   "execution_count": 85,
   "metadata": {},
   "outputs": [
    {
     "data": {
      "text/plain": [
       "True"
      ]
     },
     "execution_count": 85,
     "metadata": {},
     "output_type": "execute_result"
    }
   ],
   "source": [
    "len(lat[0])*len(lat) == len(lon[0])*len(lon) == len(day_of_week[0])*len(day_of_week) == 4429*30 == len(feat) == len(TruePickups[0])*len(TruePickups)"
   ]
  },
  {
   "cell_type": "code",
   "execution_count": 134,
   "metadata": {},
   "outputs": [
    {
     "data": {
      "text/plain": [
       "(132870, 5)"
      ]
     },
     "execution_count": 134,
     "metadata": {},
     "output_type": "execute_result"
    }
   ],
   "source": [
    "feat.shape"
   ]
  },
  {
   "cell_type": "markdown",
   "metadata": {},
   "source": [
    "## Adding Predictions of Weighted Moving Average Predictions as a feature in our data\n",
    "* Getting the predictions of weighted moving averages to be used as a feature in cumulative form.\n",
    "\n",
    "* Upto now we computed 8 features for every data point that starts from 50th min of the day.\n",
    "\n",
    "* cluster center latitude\n",
    "* cluster center longitude\n",
    "* day of the week\n",
    "* f_t_1: number of pickups that are happened previous t-1st 10min interval\n",
    "* f_t_2: number of pickups that are happened previous t-2nd 10min interval\n",
    "* f_t_3: number of pickups that are happened previous t-3rd 10min interval\n",
    "* f_t_4: number of pickups that are happened previous t-4th 10min interval\n",
    "* f_t_5: number of pickups that are happened previous t-5th 10min interval\n",
    "\n",
    "\n",
    "* From the baseline models we said that the weighted moving avarage predictions gives us the best error. We will try to add the same weighted moving avarage predictions at time t as a feature to our data.\n",
    "Weighted Moving Average -> $P_{t} = ( N*P_{t-1} + (N-1)*P_{t-2} + (N-2)*P_{t-3} .... 1*P_{t-n} )/(N*(N+1)/2)$"
   ]
  },
  {
   "cell_type": "code",
   "execution_count": 142,
   "metadata": {},
   "outputs": [],
   "source": [
    "# \"predicted_pickup_values\": it is a temporary array that store weighted moving avarag prediction values for each 10min intervl, \n",
    "# for each cluster it will get reset.\n",
    "# for every cluster it contains 4464 values\n",
    "predicted_pickup_values = []\n",
    "\n",
    "# \"predicted_pickup_values_list\"\n",
    "# it is list of lists\n",
    "# predict_list is a list of lists [[x5,x6,x7..x4463], [x5,x6,x7..x4463], [x5,x6,x7..x4463], ... 40 lists]\n",
    "predicted_pickup_values_list = []\n",
    "\n",
    "predicted_value = -1  #it will contain cuurent predicted_value. Default is given -1 which will be replaced later\n",
    "\n",
    "window_size = 2\n",
    "for i in range(30):\n",
    "    for j in range(4434):\n",
    "        if j == 0:\n",
    "            predicted_value = regionWisePickup_Jan_2016[i][j]\n",
    "            predicted_pickup_values.append(0)\n",
    "        else:\n",
    "            if j>=window_size:\n",
    "                sumPickups = 0\n",
    "                sumOfWeights = 0\n",
    "                for k in range(window_size, 0, -1):\n",
    "                    sumPickups += k*(regionWisePickup_Jan_2016[i][j -window_size + (k - 1)])\n",
    "                    sumOfWeights += k\n",
    "                predicted_value = int(sumPickups/sumOfWeights)\n",
    "                predicted_pickup_values.append(predicted_value)\n",
    "            else:\n",
    "                sumPickups = 0\n",
    "                sumOfWeights = 0\n",
    "                for k in range(j, 0, -1):\n",
    "                    sumPickups += k*regionWisePickup_Jan_2016[i][k-1]\n",
    "                    sumOfWeights += k\n",
    "                predicted_value = int(sumPickups/sumOfWeights)\n",
    "                predicted_pickup_values.append(predicted_value)\n",
    "                \n",
    "    predicted_pickup_values_list.append(predicted_pickup_values[5:])\n",
    "    predicted_pickup_values = []"
   ]
  },
  {
   "cell_type": "code",
   "execution_count": 143,
   "metadata": {},
   "outputs": [
    {
     "data": {
      "text/plain": [
       "True"
      ]
     },
     "execution_count": 143,
     "metadata": {},
     "output_type": "execute_result"
    }
   ],
   "source": [
    "len(predicted_pickup_values_list[0])*len(predicted_pickup_values_list) == 4429*30"
   ]
  },
  {
   "cell_type": "code",
   "execution_count": 93,
   "metadata": {},
   "outputs": [
    {
     "name": "stdout",
     "output_type": "stream",
     "text": [
      "size of total train data :106680\n",
      "size of total test data :26670\n"
     ]
    }
   ],
   "source": [
    "print(\"size of total train data :\" +str(int(133350*0.8)))\n",
    "print(\"size of total test data :\" +str(int(133350*0.2)))"
   ]
  },
  {
   "cell_type": "code",
   "execution_count": 94,
   "metadata": {},
   "outputs": [
    {
     "name": "stdout",
     "output_type": "stream",
     "text": [
      "size of train data for one cluster:3543\n",
      "size of total test data for one cluster:885\n"
     ]
    }
   ],
   "source": [
    "print(\"size of train data for one cluster:\" +str(int(4429*0.8)))\n",
    "print(\"size of total test data for one cluster:\" +str(int(4429*0.2)))"
   ]
  },
  {
   "cell_type": "code",
   "execution_count": 95,
   "metadata": {},
   "outputs": [],
   "source": [
    "train_previousFive_pickups  = [feat[i*4429:(4429*i+3543)] for i in range(30)]\n",
    "test_previousFive_pickups  = [feat[(i*4429)+3543:(4429*(i+1))] for i in range(30)]"
   ]
  },
  {
   "cell_type": "code",
   "execution_count": 137,
   "metadata": {},
   "outputs": [
    {
     "data": {
      "text/plain": [
       "(30, 3543, 5)"
      ]
     },
     "execution_count": 137,
     "metadata": {},
     "output_type": "execute_result"
    }
   ],
   "source": [
    "np.shape(train_previousFive_pickups)"
   ]
  },
  {
   "cell_type": "code",
   "execution_count": 96,
   "metadata": {},
   "outputs": [
    {
     "name": "stdout",
     "output_type": "stream",
     "text": [
      "Train Data: Total number of clusters = 30. Number of points in each cluster = 3543. Total number of training points = 106290\n",
      "Test Data: Total number of clusters = 30. Number of points in each cluster = 886. Total number of test points = 26580\n"
     ]
    }
   ],
   "source": [
    "print(\"Train Data: Total number of clusters = {}. Number of points in each cluster = {}. Total number of training points = {}\".format(len(train_previousFive_pickups), len(train_previousFive_pickups[0]), len(train_previousFive_pickups)*len(train_previousFive_pickups[0])))\n",
    "print(\"Test Data: Total number of clusters = {}. Number of points in each cluster = {}. Total number of test points = {}\".format(len(test_previousFive_pickups), len(test_previousFive_pickups[0]), len(test_previousFive_pickups)*len(test_previousFive_pickups[0])))"
   ]
  },
  {
   "cell_type": "code",
   "execution_count": 119,
   "metadata": {},
   "outputs": [],
   "source": [
    "#taking 80% data as train data from each cluster\n",
    "train_lat = [i[:3543] for i in lat]\n",
    "train_lon = [i[:3543] for i in lon]\n",
    "train_weekDay = [i[:3543] for i in day_of_week]\n",
    "train_weighted_avg = [i[:3543] for i in predicted_pickup_values_list]\n",
    "train_TruePickups = [i[:3543] for i in TruePickups]"
   ]
  },
  {
   "cell_type": "code",
   "execution_count": null,
   "metadata": {},
   "outputs": [],
   "source": [
    "#taking 20% data as test data from each cluster\n",
    "test_lat = [i[3543:] for i in lat]\n",
    "test_lon = [i[3543:] for i in lon]\n",
    "test_weekDay = [i[3543:] for i in day_of_week]\n",
    "test_weighted_avg = [i[3543:] for i in predicted_pickup_values_list]\n",
    "test_TruePickups = [i[3543:] for i in TruePickups]"
   ]
  },
  {
   "cell_type": "code",
   "execution_count": 121,
   "metadata": {},
   "outputs": [],
   "source": [
    "# convert from lists of lists of list to lists of list\n",
    "train_pickups = []\n",
    "test_pickups = []\n",
    "for i in range(30):\n",
    "    train_pickups.extend(train_previousFive_pickups[i])\n",
    "    test_pickups.extend(test_previousFive_pickups[i])"
   ]
  },
  {
   "cell_type": "code",
   "execution_count": 122,
   "metadata": {},
   "outputs": [],
   "source": [
    "#stacking pickups,frequencies and amplitudes horizontally.\n",
    "# a = [1,2,3,4,5]\n",
    "# b = [6,7,8,9,10]\n",
    "# c = [11,12,13,14,15]\n",
    "# d = np.hstack((a, b, c))\n",
    "# d = array([ 1,  2,  3,  4,  5,  6,  7,  8,  9, 10, 11, 12, 13, 14, 15])\n",
    "\n",
    "train_prevPickups_freq_amp = np.hstack((train_pickups))\n",
    "test_prevPickups_freq_amp = np.hstack((test_pickups))"
   ]
  },
  {
   "cell_type": "code",
   "execution_count": 123,
   "metadata": {},
   "outputs": [
    {
     "data": {
      "text/plain": [
       "((531450,), (132900,))"
      ]
     },
     "execution_count": 123,
     "metadata": {},
     "output_type": "execute_result"
    }
   ],
   "source": [
    "train_prevPickups_freq_amp.shape, test_prevPickups_freq_amp.shape"
   ]
  },
  {
   "cell_type": "code",
   "execution_count": 140,
   "metadata": {},
   "outputs": [],
   "source": [
    "# converting lists of lists into single list i.e flatten\n",
    "# a  = [[1,2,3,4],[4,6,7,8]]\n",
    "# print(sum(a,[]))\n",
    "# [1, 2, 3, 4, 4, 6, 7, 8]\n",
    "\n",
    "train_flat_lat = sum(train_lat, [])\n",
    "train_flat_lon = sum(train_lon, [])\n",
    "train_flat_weekDay = sum(train_weekDay, [])\n",
    "train_weighted_avg_flat = sum(train_weighted_avg, [])\n",
    "train_TruePickups_flat = sum(train_TruePickups, [])\n",
    "\n",
    "test_flat_lat = sum(test_lat, [])\n",
    "test_flat_lon = sum(test_lon, [])\n",
    "test_flat_weekDay = sum(test_weekDay, [])\n",
    "test_weighted_avg_flat = sum(test_weighted_avg, [])\n",
    "test_TruePickups_flat = sum(test_TruePickups, [])"
   ]
  },
  {
   "cell_type": "code",
   "execution_count": 145,
   "metadata": {},
   "outputs": [],
   "source": [
    "#train dataframe\n",
    "columns = ['ft_5','ft_4','ft_3','ft_2','ft_1']\n",
    "Train_DF = pd.DataFrame(data = train_pickups, columns = columns)\n",
    "Train_DF[\"Latitude\"] = train_flat_lat\n",
    "Train_DF[\"Longitude\"] = train_flat_lon\n",
    "Train_DF[\"WeekDay\"] = train_flat_weekDay\n",
    "Train_DF[\"WeightedAvg\"] = train_weighted_avg_flat"
   ]
  },
  {
   "cell_type": "code",
   "execution_count": 146,
   "metadata": {},
   "outputs": [],
   "source": [
    "#test dataframe\n",
    "Test_DF = pd.DataFrame(data = test_pickups, columns = columns)\n",
    "Test_DF[\"Latitude\"] = test_flat_lat\n",
    "Test_DF[\"Longitude\"] = test_flat_lon\n",
    "Test_DF[\"WeekDay\"] = test_flat_weekDay\n",
    "Test_DF[\"WeightedAvg\"] = test_weighted_avg_flat"
   ]
  },
  {
   "cell_type": "code",
   "execution_count": 147,
   "metadata": {},
   "outputs": [
    {
     "name": "stdout",
     "output_type": "stream",
     "text": [
      "Shape of train data = (106290, 9)\n",
      "Shape of test data = (26580, 9)\n"
     ]
    }
   ],
   "source": [
    "print(\"Shape of train data = \"+str(Train_DF.shape))\n",
    "print(\"Shape of test data = \"+str(Test_DF.shape))"
   ]
  },
  {
   "cell_type": "code",
   "execution_count": 162,
   "metadata": {},
   "outputs": [
    {
     "data": {
      "text/plain": [
       "40.824609    3543\n",
       "40.772112    3543\n",
       "40.763156    3543\n",
       "40.658211    3543\n",
       "40.803514    3543\n",
       "40.776810    3543\n",
       "40.730321    3543\n",
       "40.646422    3543\n",
       "40.711430    3543\n",
       "40.785037    3543\n",
       "40.688711    3543\n",
       "40.726841    3543\n",
       "40.789151    3543\n",
       "40.709674    3543\n",
       "40.760062    3543\n",
       "40.717303    3543\n",
       "40.746473    3543\n",
       "40.679008    3543\n",
       "40.741551    3543\n",
       "40.771368    3543\n",
       "40.722361    3543\n",
       "40.755937    3543\n",
       "40.775305    3543\n",
       "40.756745    3543\n",
       "40.739639    3543\n",
       "40.764902    3543\n",
       "40.750389    3543\n",
       "40.713901    3543\n",
       "40.749256    3543\n",
       "40.759979    3543\n",
       "Name: Latitude, dtype: int64"
      ]
     },
     "execution_count": 162,
     "metadata": {},
     "output_type": "execute_result"
    }
   ],
   "source": [
    "Train_DF.Latitude.value_counts()"
   ]
  },
  {
   "cell_type": "code",
   "execution_count": 148,
   "metadata": {},
   "outputs": [
    {
     "data": {
      "text/html": [
       "<div>\n",
       "<style scoped>\n",
       "    .dataframe tbody tr th:only-of-type {\n",
       "        vertical-align: middle;\n",
       "    }\n",
       "\n",
       "    .dataframe tbody tr th {\n",
       "        vertical-align: top;\n",
       "    }\n",
       "\n",
       "    .dataframe thead th {\n",
       "        text-align: right;\n",
       "    }\n",
       "</style>\n",
       "<table border=\"1\" class=\"dataframe\">\n",
       "  <thead>\n",
       "    <tr style=\"text-align: right;\">\n",
       "      <th></th>\n",
       "      <th>ft_5</th>\n",
       "      <th>ft_4</th>\n",
       "      <th>ft_3</th>\n",
       "      <th>ft_2</th>\n",
       "      <th>ft_1</th>\n",
       "      <th>Latitude</th>\n",
       "      <th>Longitude</th>\n",
       "      <th>WeekDay</th>\n",
       "      <th>WeightedAvg</th>\n",
       "    </tr>\n",
       "  </thead>\n",
       "  <tbody>\n",
       "    <tr>\n",
       "      <th>0</th>\n",
       "      <td>230</td>\n",
       "      <td>98</td>\n",
       "      <td>94</td>\n",
       "      <td>84</td>\n",
       "      <td>66</td>\n",
       "      <td>40.772112</td>\n",
       "      <td>-73.95141</td>\n",
       "      <td>5</td>\n",
       "      <td>72</td>\n",
       "    </tr>\n",
       "    <tr>\n",
       "      <th>1</th>\n",
       "      <td>98</td>\n",
       "      <td>94</td>\n",
       "      <td>84</td>\n",
       "      <td>66</td>\n",
       "      <td>74</td>\n",
       "      <td>40.772112</td>\n",
       "      <td>-73.95141</td>\n",
       "      <td>5</td>\n",
       "      <td>71</td>\n",
       "    </tr>\n",
       "    <tr>\n",
       "      <th>2</th>\n",
       "      <td>94</td>\n",
       "      <td>84</td>\n",
       "      <td>66</td>\n",
       "      <td>74</td>\n",
       "      <td>85</td>\n",
       "      <td>40.772112</td>\n",
       "      <td>-73.95141</td>\n",
       "      <td>5</td>\n",
       "      <td>81</td>\n",
       "    </tr>\n",
       "    <tr>\n",
       "      <th>3</th>\n",
       "      <td>84</td>\n",
       "      <td>66</td>\n",
       "      <td>74</td>\n",
       "      <td>85</td>\n",
       "      <td>72</td>\n",
       "      <td>40.772112</td>\n",
       "      <td>-73.95141</td>\n",
       "      <td>5</td>\n",
       "      <td>76</td>\n",
       "    </tr>\n",
       "    <tr>\n",
       "      <th>4</th>\n",
       "      <td>66</td>\n",
       "      <td>74</td>\n",
       "      <td>85</td>\n",
       "      <td>72</td>\n",
       "      <td>64</td>\n",
       "      <td>40.772112</td>\n",
       "      <td>-73.95141</td>\n",
       "      <td>5</td>\n",
       "      <td>66</td>\n",
       "    </tr>\n",
       "  </tbody>\n",
       "</table>\n",
       "</div>"
      ],
      "text/plain": [
       "   ft_5  ft_4  ft_3  ft_2  ft_1   Latitude  Longitude  WeekDay  WeightedAvg\n",
       "0   230    98    94    84    66  40.772112  -73.95141        5           72\n",
       "1    98    94    84    66    74  40.772112  -73.95141        5           71\n",
       "2    94    84    66    74    85  40.772112  -73.95141        5           81\n",
       "3    84    66    74    85    72  40.772112  -73.95141        5           76\n",
       "4    66    74    85    72    64  40.772112  -73.95141        5           66"
      ]
     },
     "execution_count": 148,
     "metadata": {},
     "output_type": "execute_result"
    }
   ],
   "source": [
    "Train_DF.head()"
   ]
  },
  {
   "cell_type": "code",
   "execution_count": 149,
   "metadata": {},
   "outputs": [
    {
     "data": {
      "text/html": [
       "<div>\n",
       "<style scoped>\n",
       "    .dataframe tbody tr th:only-of-type {\n",
       "        vertical-align: middle;\n",
       "    }\n",
       "\n",
       "    .dataframe tbody tr th {\n",
       "        vertical-align: top;\n",
       "    }\n",
       "\n",
       "    .dataframe thead th {\n",
       "        text-align: right;\n",
       "    }\n",
       "</style>\n",
       "<table border=\"1\" class=\"dataframe\">\n",
       "  <thead>\n",
       "    <tr style=\"text-align: right;\">\n",
       "      <th></th>\n",
       "      <th>ft_5</th>\n",
       "      <th>ft_4</th>\n",
       "      <th>ft_3</th>\n",
       "      <th>ft_2</th>\n",
       "      <th>ft_1</th>\n",
       "      <th>Latitude</th>\n",
       "      <th>Longitude</th>\n",
       "      <th>WeekDay</th>\n",
       "      <th>WeightedAvg</th>\n",
       "    </tr>\n",
       "  </thead>\n",
       "  <tbody>\n",
       "    <tr>\n",
       "      <th>0</th>\n",
       "      <td>104</td>\n",
       "      <td>96</td>\n",
       "      <td>96</td>\n",
       "      <td>115</td>\n",
       "      <td>100</td>\n",
       "      <td>40.772112</td>\n",
       "      <td>-73.95141</td>\n",
       "      <td>1</td>\n",
       "      <td>105</td>\n",
       "    </tr>\n",
       "    <tr>\n",
       "      <th>1</th>\n",
       "      <td>96</td>\n",
       "      <td>96</td>\n",
       "      <td>115</td>\n",
       "      <td>100</td>\n",
       "      <td>117</td>\n",
       "      <td>40.772112</td>\n",
       "      <td>-73.95141</td>\n",
       "      <td>1</td>\n",
       "      <td>111</td>\n",
       "    </tr>\n",
       "    <tr>\n",
       "      <th>2</th>\n",
       "      <td>96</td>\n",
       "      <td>115</td>\n",
       "      <td>100</td>\n",
       "      <td>117</td>\n",
       "      <td>97</td>\n",
       "      <td>40.772112</td>\n",
       "      <td>-73.95141</td>\n",
       "      <td>1</td>\n",
       "      <td>103</td>\n",
       "    </tr>\n",
       "    <tr>\n",
       "      <th>3</th>\n",
       "      <td>115</td>\n",
       "      <td>100</td>\n",
       "      <td>117</td>\n",
       "      <td>97</td>\n",
       "      <td>106</td>\n",
       "      <td>40.772112</td>\n",
       "      <td>-73.95141</td>\n",
       "      <td>1</td>\n",
       "      <td>103</td>\n",
       "    </tr>\n",
       "    <tr>\n",
       "      <th>4</th>\n",
       "      <td>100</td>\n",
       "      <td>117</td>\n",
       "      <td>97</td>\n",
       "      <td>106</td>\n",
       "      <td>114</td>\n",
       "      <td>40.772112</td>\n",
       "      <td>-73.95141</td>\n",
       "      <td>1</td>\n",
       "      <td>111</td>\n",
       "    </tr>\n",
       "  </tbody>\n",
       "</table>\n",
       "</div>"
      ],
      "text/plain": [
       "   ft_5  ft_4  ft_3  ft_2  ft_1   Latitude  Longitude  WeekDay  WeightedAvg\n",
       "0   104    96    96   115   100  40.772112  -73.95141        1          105\n",
       "1    96    96   115   100   117  40.772112  -73.95141        1          111\n",
       "2    96   115   100   117    97  40.772112  -73.95141        1          103\n",
       "3   115   100   117    97   106  40.772112  -73.95141        1          103\n",
       "4   100   117    97   106   114  40.772112  -73.95141        1          111"
      ]
     },
     "execution_count": 149,
     "metadata": {},
     "output_type": "execute_result"
    }
   ],
   "source": [
    "Test_DF.head()"
   ]
  },
  {
   "cell_type": "code",
   "execution_count": 151,
   "metadata": {},
   "outputs": [],
   "source": [
    "from sklearn.model_selection import GridSearchCV\n",
    "from sklearn.metrics import mean_absolute_error\n",
    "from sklearn.metrics import mean_squared_error\n",
    "from sklearn.preprocessing import StandardScaler\n",
    "from sklearn.ensemble import RandomForestRegressor\n",
    "from sklearn.linear_model import SGDRegressor"
   ]
  },
  {
   "cell_type": "code",
   "execution_count": 152,
   "metadata": {},
   "outputs": [],
   "source": [
    "def lin_regression(train_data, train_true, test_data, test_true):\n",
    "    \n",
    "    #standardizing the data\n",
    "    train_std = StandardScaler().fit_transform(train_data)\n",
    "    test_std = StandardScaler().fit_transform(test_data)\n",
    "    \n",
    "    #hyper-paramater tuning\n",
    "    clf = SGDRegressor(loss = \"squared_loss\", penalty = \"l2\")\n",
    "    values = [10**-14, 10**-12, 10**-10, 10**-8, 10**-6, 10**-4, 10**-2, 10**0, 10**2, 10**4, 10**6]\n",
    "    hyper_parameter = {\"alpha\": values}\n",
    "    best_parameter = GridSearchCV(clf, hyper_parameter, scoring = \"neg_mean_absolute_error\", cv = 3)\n",
    "    best_parameter.fit(train_std, train_true)\n",
    "    alpha = best_parameter.best_params_[\"alpha\"]\n",
    "    \n",
    "    #applying linear regression with best hyper-parameter\n",
    "    clf = SGDRegressor(loss = \"squared_loss\", penalty = \"l2\", alpha = alpha)\n",
    "    clf.fit(train_std, train_true)\n",
    "    train_pred = clf.predict(train_std)\n",
    "    train_MAPE = mean_absolute_error(train_true, train_pred)/ (sum(train_true)/len(train_true))\n",
    "    train_MSE = mean_squared_error(train_true, train_pred)\n",
    "    test_pred = clf.predict(test_std)\n",
    "    test_MAPE = mean_absolute_error(test_true, test_pred)/ (sum(test_true)/len(test_true))\n",
    "    test_MSE = mean_squared_error(test_true, test_pred)\n",
    "    \n",
    "    return train_MAPE, train_MSE, test_MAPE, test_MSE"
   ]
  },
  {
   "cell_type": "code",
   "execution_count": 153,
   "metadata": {},
   "outputs": [],
   "source": [
    "trainMAPE_lr, trainMSE_lr, testMAPE_lr, testMSE_lr = lin_regression(Train_DF, train_TruePickups_flat, Test_DF, test_TruePickups_flat)"
   ]
  },
  {
   "cell_type": "code",
   "execution_count": 154,
   "metadata": {},
   "outputs": [
    {
     "data": {
      "text/plain": [
       "(0.12808902709133574, 187.4509161024931, 0.1417567924834625, 173.3698426668002)"
      ]
     },
     "execution_count": 154,
     "metadata": {},
     "output_type": "execute_result"
    }
   ],
   "source": [
    "trainMAPE_lr, trainMSE_lr, testMAPE_lr, testMSE_lr"
   ]
  },
  {
   "cell_type": "code",
   "execution_count": 159,
   "metadata": {},
   "outputs": [],
   "source": [
    "import xgboost as xgb"
   ]
  },
  {
   "cell_type": "code",
   "execution_count": 160,
   "metadata": {},
   "outputs": [],
   "source": [
    "def xgboost_reg(train_data, train_true, test_data, test_true):\n",
    "    #hyper-parameter tuning\n",
    "    hyper_parameter = {\"max_depth\":[1, 2, 3, 4], \"n_estimators\":[40, 80, 150, 600]}\n",
    "    clf = xgb.XGBRegressor()\n",
    "    best_parameter = GridSearchCV(clf, hyper_parameter, scoring = \"neg_mean_absolute_error\", cv = 3)\n",
    "    best_parameter.fit(train_data, train_true)\n",
    "    estimators = best_parameter.best_params_[\"n_estimators\"]\n",
    "    depth = best_parameter.best_params_[\"max_depth\"]\n",
    "    \n",
    "    #applying xgboost regressor with best hyper-parameter\n",
    "    clf = xgb.XGBRegressor(max_depth = depth, n_estimators = estimators)\n",
    "    clf.fit(train_data, train_true)\n",
    "    train_pred = clf.predict(train_data)\n",
    "    train_MAPE = mean_absolute_error(train_true, train_pred)/ (sum(train_true)/len(train_true))\n",
    "    train_MSE = mean_squared_error(train_true, train_pred)\n",
    "    test_pred = clf.predict(test_data)\n",
    "    test_MAPE = mean_absolute_error(test_true, test_pred)/ (sum(test_true)/len(test_true))\n",
    "    test_MSE = mean_squared_error(test_true, test_pred)\n",
    "    \n",
    "    return train_MAPE, train_MSE, test_MAPE, test_MSE"
   ]
  },
  {
   "cell_type": "code",
   "execution_count": 161,
   "metadata": {},
   "outputs": [],
   "source": [
    "trainMAPE_xgb, trainMSE_xgb, testMAPE_xgb, testMSE_xgb = xgboost_reg(Train_DF, train_TruePickups_flat, Test_DF, test_TruePickups_flat)"
   ]
  },
  {
   "cell_type": "code",
   "execution_count": 163,
   "metadata": {},
   "outputs": [
    {
     "data": {
      "text/plain": [
       "(0.12473058963970869,\n",
       " 174.10352760684776,\n",
       " 0.12647704127571752,\n",
       " 147.03132755946788)"
      ]
     },
     "execution_count": 163,
     "metadata": {},
     "output_type": "execute_result"
    }
   ],
   "source": [
    "trainMAPE_xgb, trainMSE_xgb, testMAPE_xgb, testMSE_xgb"
   ]
  },
  {
   "cell_type": "code",
   "execution_count": null,
   "metadata": {},
   "outputs": [],
   "source": []
  }
 ],
 "metadata": {
  "kernelspec": {
   "display_name": "Python 3",
   "language": "python",
   "name": "python3"
  },
  "language_info": {
   "codemirror_mode": {
    "name": "ipython",
    "version": 3
   },
   "file_extension": ".py",
   "mimetype": "text/x-python",
   "name": "python",
   "nbconvert_exporter": "python",
   "pygments_lexer": "ipython3",
   "version": "3.7.7"
  }
 },
 "nbformat": 4,
 "nbformat_minor": 4
}
